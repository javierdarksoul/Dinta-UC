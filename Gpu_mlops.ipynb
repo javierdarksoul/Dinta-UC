{
 "cells": [
  {
   "cell_type": "markdown",
   "id": "8f7539cd",
   "metadata": {
    "slideshow": {
     "slide_type": "slide"
    }
   },
   "source": [
    "**Javier Rojas Herrera**\n",
    "\n",
    "jrojash1995@gmail.com\n",
    "\n",
    "**Hardware, Deployment y MLOps**\n",
    "\n"
   ]
  },
  {
   "cell_type": "markdown",
   "id": "1899cc5e",
   "metadata": {
    "slideshow": {
     "slide_type": "slide"
    }
   },
   "source": [
    "### Letra pequeña del Deep Learning"
   ]
  },
  {
   "cell_type": "markdown",
   "id": "bdfe39d6",
   "metadata": {
    "slideshow": {
     "slide_type": "fragment"
    }
   },
   "source": [
    "* **Entrenamiento e Inferencia requieren de hardware avanzado en computo numérico**\n",
    "* Se requieren grandes volumenes de datos etiquetados\n"
   ]
  },
  {
   "cell_type": "markdown",
   "id": "e67507df",
   "metadata": {
    "slideshow": {
     "slide_type": "slide"
    }
   },
   "source": [
    "\n",
    "###  <center>[<img src=\"images/gpuvscpuvstpu.webp\" width=\"80%\"/> ](attachment:image.png)</center>"
   ]
  },
  {
   "cell_type": "markdown",
   "id": "b4482dfa",
   "metadata": {
    "slideshow": {
     "slide_type": "slide"
    }
   },
   "source": [
    "## GPU (graphics processing unit)\n",
    "###  <center>[<img src=\"images/A100.jpg\" width=\"60%\"/> ](attachment:image.png)</center>"
   ]
  },
  {
   "cell_type": "markdown",
   "id": "a3d09b6d",
   "metadata": {
    "slideshow": {
     "slide_type": "slide"
    }
   },
   "source": [
    "## GPU vs CPU\n",
    "###  <center>[<img src=\"images/gpuvscpu.png\" width=\"60%\"/> ](attachment:image.png)</center>"
   ]
  },
  {
   "cell_type": "markdown",
   "id": "3257d301",
   "metadata": {
    "slideshow": {
     "slide_type": "slide"
    }
   },
   "source": [
    "## GPU vs CPU: Inferencia\n",
    "###  <center>[<img src=\"images/gpuvscpu2.png\" width=\"70%\"/> ](attachment:image.png)</center>"
   ]
  },
  {
   "cell_type": "markdown",
   "id": "83aeabb6",
   "metadata": {
    "slideshow": {
     "slide_type": "subslide"
    }
   },
   "source": [
    "## Tabla resumen GPUS\n",
    "\n",
    "|GPU |  Cuda cores | Tensor cores | VRAM  | Power | Precio |\n",
    "|----------|----------|----------| ----------|  ----------| ----------|\n",
    "| T4    | 2500   | 320  | 15 GB | 70 W | 1100 usd |\n",
    "| L4   | 7680   | 240  | 24 GB | 72 W | 2600 usd |\n",
    "| L40   | 18176    | 568  | 48 GB | 300 W | 8400 usd |\n",
    "| A100    | 6920   |  422   | 80 GB | 400 W | 12000 usd |\n",
    "| H100    | 14592    |  456    | 80 GB | 350 W | 30000 usd |\n"
   ]
  },
  {
   "cell_type": "code",
   "execution_count": 1,
   "id": "6b52118b",
   "metadata": {
    "scrolled": true,
    "slideshow": {
     "slide_type": "subslide"
    }
   },
   "outputs": [
    {
     "name": "stdout",
     "output_type": "stream",
     "text": [
      "Mon Jun 10 18:57:33 2024       \r\n",
      "+---------------------------------------------------------------------------------------+\r\n",
      "| NVIDIA-SMI 545.29.06              Driver Version: 545.29.06    CUDA Version: 12.3     |\r\n",
      "|-----------------------------------------+----------------------+----------------------+\r\n",
      "| GPU  Name                 Persistence-M | Bus-Id        Disp.A | Volatile Uncorr. ECC |\r\n",
      "| Fan  Temp   Perf          Pwr:Usage/Cap |         Memory-Usage | GPU-Util  Compute M. |\r\n",
      "|                                         |                      |               MIG M. |\r\n",
      "|=========================================+======================+======================|\r\n",
      "|   0  NVIDIA GeForce RTX 3080        Off | 00000000:07:00.0 Off |                  N/A |\r\n",
      "|  0%   34C    P8              19W / 320W |    223MiB / 10240MiB |      0%      Default |\r\n",
      "|                                         |                      |                  N/A |\r\n",
      "+-----------------------------------------+----------------------+----------------------+\r\n",
      "                                                                                         \r\n",
      "+---------------------------------------------------------------------------------------+\r\n",
      "| Processes:                                                                            |\r\n",
      "|  GPU   GI   CI        PID   Type   Process name                            GPU Memory |\r\n",
      "|        ID   ID                                                             Usage      |\r\n",
      "|=======================================================================================|\r\n",
      "|    0   N/A  N/A       622      G   /usr/lib/Xorg                               116MiB |\r\n",
      "|    0   N/A  N/A       654      G   /usr/bin/sddm-greeter                        93MiB |\r\n",
      "+---------------------------------------------------------------------------------------+\r\n"
     ]
    }
   ],
   "source": [
    "!nvidia-smi"
   ]
  },
  {
   "cell_type": "code",
   "execution_count": 2,
   "id": "21bd084e",
   "metadata": {
    "slideshow": {
     "slide_type": "subslide"
    }
   },
   "outputs": [],
   "source": [
    "import ipywidgets as widgets\n",
    "from ipywidgets import interact, interact_manual\n",
    "from torchvision.models import vit_b_16 , ViT_B_16_Weights\n",
    "from torchvision.transforms import v2\n",
    "from torchvision.datasets import CIFAR10\n",
    "from torch.utils.data import DataLoader,Subset\n",
    "import torch\n",
    "import matplotlib.pyplot as plt\n",
    "import time\n",
    "from trans import UnNormalize\n",
    "from io import StringIO\n",
    "import numpy as np"
   ]
  },
  {
   "cell_type": "code",
   "execution_count": 3,
   "id": "eca1658a",
   "metadata": {
    "slideshow": {
     "slide_type": "fragment"
    }
   },
   "outputs": [
    {
     "name": "stdout",
     "output_type": "stream",
     "text": [
      "Using downloaded and verified file: ./cifar-10-python.tar.gz\n",
      "Extracting ./cifar-10-python.tar.gz to ./\n",
      "Files already downloaded and verified\n"
     ]
    }
   ],
   "source": [
    "##load model VIT B 16\n",
    "weights = ViT_B_16_Weights.DEFAULT\n",
    "preprocess = weights.transforms()\n",
    "model = vit_b_16(weights=weights)\n",
    "model.heads.head = torch.nn.Linear(768,10)\n",
    "\n",
    "##set optimizer and loss\n",
    "optim = torch.optim.Adam(model.parameters())\n",
    "cross_entropy = torch.nn.CrossEntropyLoss()\n",
    "\n",
    "##load data into dataloader\n",
    "data = CIFAR10(\"./\", download=True, train=True, transform=weights.transforms())\n",
    "data = CIFAR10(\"./\", download=True, train=True, transform=weights.transforms())\n",
    "subset_indices = torch.randperm(len(data))[:1000]\n",
    "subset_cifar10 = Subset(data, subset_indices)\n",
    "dataloader = DataLoader(subset_cifar10, batch_size=32, shuffle=False)\n",
    "\n",
    "class_names = [\"Airplane\",\"Auto\",\"Bird\",\"Cat\",\"Deer\",\"Dog\",\"Frog\",\"Horse\",\"Ship\",\"Truck\"]"
   ]
  },
  {
   "cell_type": "code",
   "execution_count": 4,
   "id": "e678e0e8",
   "metadata": {
    "slideshow": {
     "slide_type": "slide"
    }
   },
   "outputs": [
    {
     "data": {
      "application/vnd.jupyter.widget-view+json": {
       "model_id": "e0b075cc812a43bfb6559bdb214d27a0",
       "version_major": 2,
       "version_minor": 0
      },
      "text/plain": [
       "interactive(children=(IntSlider(value=1000, description='x', max=3000, min=-1000), Output()), _dom_classes=('w…"
      ]
     },
     "metadata": {},
     "output_type": "display_data"
    }
   ],
   "source": [
    "std = weights.transforms().std\n",
    "mean = weights.transforms().mean\n",
    "invTrans=UnNormalize(mean,std)\n",
    "@interact\n",
    "def show_articles_more_than(x=1000):\n",
    "    plt.figure(figsize=(5,3))\n",
    "    print(\"Label: \",class_names[data[x][1]])\n",
    "    plt.axis('off')\n",
    "    plt.imshow(invTrans(data[x][0]).permute(1,2,0))"
   ]
  },
  {
   "cell_type": "markdown",
   "id": "579dd92b",
   "metadata": {
    "slideshow": {
     "slide_type": "slide"
    }
   },
   "source": [
    "# ¿Qué elementos utilizan VRAM en un entrenamiento?"
   ]
  },
  {
   "cell_type": "markdown",
   "id": "35f5823b",
   "metadata": {
    "slideshow": {
     "slide_type": "fragment"
    }
   },
   "source": [
    "---\n",
    "\n",
    "- Almacenamiento de tensores de entrada\n"
   ]
  },
  {
   "cell_type": "markdown",
   "id": "52ee0a99",
   "metadata": {
    "slideshow": {
     "slide_type": "fragment"
    }
   },
   "source": [
    "- Almacenamiento de los parametros del modelo (weight and biases)"
   ]
  },
  {
   "cell_type": "markdown",
   "id": "72653ada",
   "metadata": {
    "slideshow": {
     "slide_type": "fragment"
    }
   },
   "source": [
    "- Almacenamiento de gradientes (backpropagation)"
   ]
  },
  {
   "cell_type": "markdown",
   "id": "f1b94faf",
   "metadata": {
    "slideshow": {
     "slide_type": "fragment"
    }
   },
   "source": [
    "- Almacenamiento de tensores de salida\n",
    "\n",
    "---"
   ]
  },
  {
   "cell_type": "code",
   "execution_count": 5,
   "id": "97997fe5",
   "metadata": {
    "slideshow": {
     "slide_type": "subslide"
    }
   },
   "outputs": [
    {
     "name": "stdout",
     "output_type": "stream",
     "text": [
      "Mon Jun 10 19:00:58 2024       \r\n",
      "+---------------------------------------------------------------------------------------+\r\n",
      "| NVIDIA-SMI 545.29.06              Driver Version: 545.29.06    CUDA Version: 12.3     |\r\n",
      "|-----------------------------------------+----------------------+----------------------+\r\n",
      "| GPU  Name                 Persistence-M | Bus-Id        Disp.A | Volatile Uncorr. ECC |\r\n",
      "| Fan  Temp   Perf          Pwr:Usage/Cap |         Memory-Usage | GPU-Util  Compute M. |\r\n",
      "|                                         |                      |               MIG M. |\r\n",
      "|=========================================+======================+======================|\r\n",
      "|   0  NVIDIA GeForce RTX 3080        Off | 00000000:07:00.0 Off |                  N/A |\r\n",
      "|  0%   35C    P2              25W / 320W |    462MiB / 10240MiB |      3%      Default |\r\n",
      "|                                         |                      |                  N/A |\r\n",
      "+-----------------------------------------+----------------------+----------------------+\r\n",
      "                                                                                         \r\n",
      "+---------------------------------------------------------------------------------------+\r\n",
      "| Processes:                                                                            |\r\n",
      "|  GPU   GI   CI        PID   Type   Process name                            GPU Memory |\r\n",
      "|        ID   ID                                                             Usage      |\r\n",
      "|=======================================================================================|\r\n",
      "|    0   N/A  N/A       622      G   /usr/lib/Xorg                               116MiB |\r\n",
      "|    0   N/A  N/A       654      G   /usr/bin/sddm-greeter                        93MiB |\r\n",
      "|    0   N/A  N/A     47038      C   ...avier/miniconda3/envs/UC/bin/python      234MiB |\r\n",
      "+---------------------------------------------------------------------------------------+\r\n"
     ]
    }
   ],
   "source": [
    "## Tomando un batch del dataloader y transfiriendolo a VRAM\n",
    "for image,label in dataloader:\n",
    "    image_=image.cuda()\n",
    "    break\n",
    "!nvidia-smi"
   ]
  },
  {
   "cell_type": "code",
   "execution_count": 6,
   "id": "a4f16c44",
   "metadata": {
    "slideshow": {
     "slide_type": "subslide"
    }
   },
   "outputs": [
    {
     "name": "stdout",
     "output_type": "stream",
     "text": [
      "Mon Jun 10 19:01:52 2024       \r\n",
      "+---------------------------------------------------------------------------------------+\r\n",
      "| NVIDIA-SMI 545.29.06              Driver Version: 545.29.06    CUDA Version: 12.3     |\r\n",
      "|-----------------------------------------+----------------------+----------------------+\r\n",
      "| GPU  Name                 Persistence-M | Bus-Id        Disp.A | Volatile Uncorr. ECC |\r\n",
      "| Fan  Temp   Perf          Pwr:Usage/Cap |         Memory-Usage | GPU-Util  Compute M. |\r\n",
      "|                                         |                      |               MIG M. |\r\n",
      "|=========================================+======================+======================|\r\n",
      "|   0  NVIDIA GeForce RTX 3080        Off | 00000000:07:00.0 Off |                  N/A |\r\n",
      "|  0%   37C    P2              24W / 320W |    844MiB / 10240MiB |     10%      Default |\r\n",
      "|                                         |                      |                  N/A |\r\n",
      "+-----------------------------------------+----------------------+----------------------+\r\n",
      "                                                                                         \r\n",
      "+---------------------------------------------------------------------------------------+\r\n",
      "| Processes:                                                                            |\r\n",
      "|  GPU   GI   CI        PID   Type   Process name                            GPU Memory |\r\n",
      "|        ID   ID                                                             Usage      |\r\n",
      "|=======================================================================================|\r\n",
      "|    0   N/A  N/A       622      G   /usr/lib/Xorg                               116MiB |\r\n",
      "|    0   N/A  N/A       654      G   /usr/bin/sddm-greeter                        93MiB |\r\n",
      "|    0   N/A  N/A     47038      C   ...avier/miniconda3/envs/UC/bin/python      616MiB |\r\n",
      "+---------------------------------------------------------------------------------------+\r\n"
     ]
    }
   ],
   "source": [
    "## transfiriendo el modelo a VRAM\n",
    "model = model.cuda()\n",
    "!nvidia-smi"
   ]
  },
  {
   "cell_type": "markdown",
   "id": "68624d74",
   "metadata": {
    "slideshow": {
     "slide_type": "slide"
    }
   },
   "source": [
    "## Locura de los parámetros"
   ]
  },
  {
   "cell_type": "markdown",
   "id": "70b56a87",
   "metadata": {
    "slideshow": {
     "slide_type": "subslide"
    }
   },
   "source": [
    "\n",
    "# <center>[ <img src=\"images/madness.png\" width=\"60%\"/>](attachment:image.png)</center>"
   ]
  },
  {
   "cell_type": "markdown",
   "id": "80e5cb8b",
   "metadata": {
    "slideshow": {
     "slide_type": "slide"
    }
   },
   "source": [
    "## ¿Cómo aprovechar al maximo el hardware disponible?"
   ]
  },
  {
   "cell_type": "code",
   "execution_count": 7,
   "id": "4120c0d8",
   "metadata": {
    "slideshow": {
     "slide_type": "fragment"
    }
   },
   "outputs": [
    {
     "name": "stdout",
     "output_type": "stream",
     "text": [
      "[0.3353274]\n"
     ]
    }
   ],
   "source": [
    "linear_test= torch.nn.Linear(1,1)    #Se define una capa lineal con 1 neurona\n",
    "print(linear_test.weight[0].detach().numpy())  #Imprime el valor del peso "
   ]
  },
  {
   "cell_type": "markdown",
   "id": "675358f3",
   "metadata": {
    "slideshow": {
     "slide_type": "slide"
    }
   },
   "source": [
    "### ¿Cómo los computadores almacenan los numeros reales?\n"
   ]
  },
  {
   "cell_type": "markdown",
   "id": "0fc6d543",
   "metadata": {
    "slideshow": {
     "slide_type": "fragment"
    }
   },
   "source": [
    "* Estandar IEEE754 establece la forma en la que los numeros reales son almacenados en memoria"
   ]
  },
  {
   "cell_type": "markdown",
   "id": "179f9030",
   "metadata": {
    "slideshow": {
     "slide_type": "fragment"
    }
   },
   "source": [
    "* Existen los puntos flotante de 16,32,64,128 bits. Siendo el más utilizado el punto flotante de 32 bits o de precisión simple"
   ]
  },
  {
   "cell_type": "markdown",
   "id": "9a4d174c",
   "metadata": {
    "slideshow": {
     "slide_type": "subslide"
    }
   },
   "source": [
    "# FP32 vs FP16\n",
    "\n",
    " # <center>[ <img src=\"images/fp16.ppm\" width=\"80%\"/>](attachment:image.png)</center>\n"
   ]
  },
  {
   "cell_type": "markdown",
   "id": "8a38544e",
   "metadata": {
    "slideshow": {
     "slide_type": "subslide"
    }
   },
   "source": [
    "### FP32 expresión notación científica\n",
    "${(−1)^S × 2^{(E-127)} × 1.F}$   \n",
    "\n",
    "Donde:\n",
    "\n",
    "$S = signo$\n",
    "\n",
    "$E = exponente$\n",
    "\n",
    "$F = mantisa$"
   ]
  },
  {
   "cell_type": "markdown",
   "id": "31408c6b",
   "metadata": {
    "slideshow": {
     "slide_type": "subslide"
    }
   },
   "source": [
    "### FP16 expresión notación científica\n",
    "${(−1)^S × 2^{(E-15)} × 1.F}$   \n",
    "\n",
    "Donde:\n",
    "\n",
    "$S = signo$\n",
    "\n",
    "$E = exponente$\n",
    "\n",
    "$F = mantisa$"
   ]
  },
  {
   "cell_type": "code",
   "execution_count": 8,
   "id": "4a2ef6ee",
   "metadata": {
    "slideshow": {
     "slide_type": "subslide"
    }
   },
   "outputs": [
    {
     "name": "stdout",
     "output_type": "stream",
     "text": [
      "1.234567891234567838e-01\n",
      "1.234567910432815552e-01\n",
      "1.234741210937500000e-01\n",
      "\n"
     ]
    }
   ],
   "source": [
    "number= 0.123456789123456789123\n",
    "sio = StringIO()\n",
    "np.savetxt(sio, np.array([number], dtype=np.float64))\n",
    "np.savetxt(sio, np.array([number], dtype=np.float32))\n",
    "np.savetxt(sio, np.array([number], dtype=np.float16))\n",
    "s = sio.getvalue()\n",
    "print(s)\n"
   ]
  },
  {
   "cell_type": "markdown",
   "id": "830fb4d3",
   "metadata": {
    "slideshow": {
     "slide_type": "subslide"
    }
   },
   "source": [
    "# FP32 vs FP16\n",
    "\n",
    " # <center>[ <img src=\"images/fp32vsfp16_tabla.png\" width=\"80%\"/>](attachment:image.png)</center>"
   ]
  },
  {
   "cell_type": "code",
   "execution_count": null,
   "id": "68e89079",
   "metadata": {},
   "outputs": [],
   "source": [
    "A= np.random.rand(10000,10000).astype(np.float32)\n",
    "B= np.random.rand(10000,10000).astype(np.float32)"
   ]
  },
  {
   "cell_type": "code",
   "execution_count": null,
   "id": "d8d50628",
   "metadata": {},
   "outputs": [],
   "source": [
    "%%time\n",
    "print(np.matmul(A,B))"
   ]
  },
  {
   "cell_type": "code",
   "execution_count": null,
   "id": "64f3f899",
   "metadata": {},
   "outputs": [],
   "source": [
    "A= np.random.rand(10000,10000).astype(np.float64)\n",
    "B= np.random.rand(10000,10000).astype(np.float64)"
   ]
  },
  {
   "cell_type": "code",
   "execution_count": null,
   "id": "0bb15400",
   "metadata": {},
   "outputs": [],
   "source": [
    "%%time\n",
    "print(np.matmul(A,B))"
   ]
  },
  {
   "cell_type": "markdown",
   "id": "566541da",
   "metadata": {
    "slideshow": {
     "slide_type": "slide"
    }
   },
   "source": [
    "## ¿Es posible usar representacion de FP16 para entrenar o inferir?"
   ]
  },
  {
   "cell_type": "markdown",
   "id": "3a11b96c",
   "metadata": {
    "slideshow": {
     "slide_type": "fragment"
    }
   },
   "source": [
    "* Algunas operaciones como las convoluciones o lineales, pueden realizarse completamente en FP16\n",
    "* Sin embargo, otras operaciones como la reducción, a menudo pueden necesitar la representacion en FP32"
   ]
  },
  {
   "cell_type": "markdown",
   "id": "9286ea29",
   "metadata": {
    "slideshow": {
     "slide_type": "slide"
    }
   },
   "source": [
    "## Precision mixta automática (AMP)"
   ]
  },
  {
   "cell_type": "markdown",
   "id": "5e86bbc2",
   "metadata": {
    "slideshow": {
     "slide_type": "fragment"
    }
   },
   "source": [
    " # <center>[ <img src=\"images/amp.png\"/>](attachment:image.png)</center>"
   ]
  },
  {
   "cell_type": "markdown",
   "id": "61d5d06b",
   "metadata": {
    "slideshow": {
     "slide_type": "slide"
    }
   },
   "source": [
    "## ¿Realmente tiene beneficios usar FP16?"
   ]
  },
  {
   "cell_type": "markdown",
   "id": "dd59c861",
   "metadata": {
    "slideshow": {
     "slide_type": "subslide"
    }
   },
   "source": [
    "  # Tensor cores\n",
    " \n",
    " # <center>[ <img src=\"images/tensorop.png\" width=100%/>](attachment:image.png)</center>"
   ]
  },
  {
   "cell_type": "markdown",
   "id": "8051a32c",
   "metadata": {
    "slideshow": {
     "slide_type": "slide"
    }
   },
   "source": [
    " # Tensor cores\n",
    " \n",
    " # <center>[ <img src=\"images/tensor_cores.gif\"/>](attachment:image.png)</center>"
   ]
  },
  {
   "cell_type": "markdown",
   "id": "eaa854b6",
   "metadata": {
    "slideshow": {
     "slide_type": "slide"
    }
   },
   "source": [
    "### Entrenamiento tradicional"
   ]
  },
  {
   "cell_type": "code",
   "execution_count": 14,
   "id": "f6951616",
   "metadata": {
    "slideshow": {
     "slide_type": "fragment"
    }
   },
   "outputs": [
    {
     "name": "stdout",
     "output_type": "stream",
     "text": [
      "Tiempo por epoca: 12.544077634811401 segs | Epoch loss: 79.52772259712219\n"
     ]
    }
   ],
   "source": [
    "for epoch in range(1):\n",
    "    time_i=time.time()\n",
    "    epoch_loss = 0.0\n",
    "    for image,label in dataloader:\n",
    "        optim.zero_grad() \n",
    "        image=image.cuda()  \n",
    "        label=label.cuda()\n",
    "        output = model(image)   \n",
    "        loss= cross_entropy(output,label)        \n",
    "        loss.backward()     \n",
    "        epoch_loss+=loss.item()\n",
    "        optim.step()\n",
    "    print(f'Tiempo por epoca: {time.time()-time_i} segs | Epoch loss: {epoch_loss}')        "
   ]
  },
  {
   "cell_type": "markdown",
   "id": "e45594eb",
   "metadata": {
    "slideshow": {
     "slide_type": "slide"
    }
   },
   "source": [
    "## Entrenamiento utilizando precision mixta + tensor cores"
   ]
  },
  {
   "cell_type": "code",
   "execution_count": 15,
   "id": "019b7b52",
   "metadata": {
    "slideshow": {
     "slide_type": "fragment"
    }
   },
   "outputs": [
    {
     "name": "stdout",
     "output_type": "stream",
     "text": [
      "Tiempo por epoca: 4.64338493347168 segs | Epoch loss: 72.82086181640625\n"
     ]
    }
   ],
   "source": [
    "for epoch in range(1):\n",
    "    time_i=time.time()\n",
    "    epoch_loss = 0.0\n",
    "    for image,label in dataloader:\n",
    "        optim.zero_grad()\n",
    "        image=image.cuda()\n",
    "        label=label.cuda()\n",
    "        with torch.autocast(device_type=\"cuda\"):\n",
    "            output = model(image)\n",
    "            loss= cross_entropy(output,label)        \n",
    "            loss.backward()\n",
    "            optim.step()\n",
    "        epoch_loss+=loss.item()\n",
    "    print(f'Tiempo por epoca: {time.time()-time_i} segs | Epoch loss: {epoch_loss}')"
   ]
  },
  {
   "cell_type": "markdown",
   "id": "fb53aca1",
   "metadata": {
    "slideshow": {
     "slide_type": "slide"
    }
   },
   "source": [
    "## ¿Qué problemas pueden ocurrir al trabajar con una precisión de 16 bits?"
   ]
  },
  {
   "cell_type": "markdown",
   "id": "ad3044f1",
   "metadata": {
    "slideshow": {
     "slide_type": "fragment"
    }
   },
   "source": [
    "* Cálculo de gradientes acumulativos podrian no poder representarse en FP16 (Desvanecimiento de gradiente)"
   ]
  },
  {
   "cell_type": "markdown",
   "id": "518c0f47",
   "metadata": {
    "slideshow": {
     "slide_type": "subslide"
    }
   },
   "source": [
    "### Entrenamiento con cálculo de gradiente escalado"
   ]
  },
  {
   "cell_type": "code",
   "execution_count": 16,
   "id": "d63ce5d9",
   "metadata": {
    "slideshow": {
     "slide_type": "subslide"
    }
   },
   "outputs": [
    {
     "data": {
      "text/plain": [
       "tensor([29.4912], device='cuda:0', grad_fn=<MulBackward0>)"
      ]
     },
     "execution_count": 16,
     "metadata": {},
     "output_type": "execute_result"
    }
   ],
   "source": [
    "scaler = torch.cuda.amp.GradScaler() \n",
    "a=torch.tensor([0.00045],requires_grad=True).cuda()\n",
    "scaler.scale(a)"
   ]
  },
  {
   "cell_type": "code",
   "execution_count": 17,
   "id": "64e45378",
   "metadata": {
    "slideshow": {
     "slide_type": "fragment"
    }
   },
   "outputs": [
    {
     "name": "stdout",
     "output_type": "stream",
     "text": [
      "Tiempo por epoca: 4.631499767303467 segs | Epoch loss: 68.31180572509766\n",
      "Tiempo por epoca: 4.612504005432129 segs | Epoch loss: 66.4228515625\n",
      "Tiempo por epoca: 4.608715772628784 segs | Epoch loss: 65.20722198486328\n"
     ]
    }
   ],
   "source": [
    "scaler = torch.cuda.amp.GradScaler()  \n",
    "for epoch in range(3):\n",
    "    time_i=time.time()\n",
    "    epoch_loss = 0.0\n",
    "    for image,label in dataloader:\n",
    "        optim.zero_grad()\n",
    "        image=image.cuda()\n",
    "        label=label.cuda()\n",
    "        with torch.autocast(device_type=\"cuda\"):\n",
    "            output = model(image)\n",
    "            loss= cross_entropy(output,label)        \n",
    "        scaler.scale(loss).backward()\n",
    "        scaler.step(optim)\n",
    "        scaler.update()\n",
    "        epoch_loss+=loss.item()\n",
    "    print(f'Tiempo por epoca: {time.time()-time_i} segs | Epoch loss: {epoch_loss}')"
   ]
  },
  {
   "cell_type": "markdown",
   "id": "2f796dae",
   "metadata": {
    "slideshow": {
     "slide_type": "slide"
    }
   },
   "source": [
    "# ¿Qué sucede si no dispongo de hardware o si requiero de pocas horas de computo?"
   ]
  },
  {
   "cell_type": "markdown",
   "id": "3f5dbaf0",
   "metadata": {
    "slideshow": {
     "slide_type": "slide"
    }
   },
   "source": [
    "### Principales servicios cloud para creación de máquinas virtuales"
   ]
  },
  {
   "cell_type": "markdown",
   "id": "09c4d260",
   "metadata": {
    "slideshow": {
     "slide_type": "fragment"
    }
   },
   "source": [
    "# <center>[<img src=\"images/azurevs.jpg\" width=\"80%\"/>](attachment:image.png)</center>"
   ]
  },
  {
   "cell_type": "markdown",
   "id": "556f1db6",
   "metadata": {
    "slideshow": {
     "slide_type": "subslide"
    }
   },
   "source": [
    "### Pros de utilizar máquinas virtuales"
   ]
  },
  {
   "cell_type": "markdown",
   "id": "443bac77",
   "metadata": {
    "slideshow": {
     "slide_type": "fragment"
    }
   },
   "source": [
    "* Fácil de crear y configurar según las necesidades"
   ]
  },
  {
   "cell_type": "markdown",
   "id": "eed82860",
   "metadata": {
    "slideshow": {
     "slide_type": "fragment"
    }
   },
   "source": [
    "* Costo bajo al corto plazo"
   ]
  },
  {
   "cell_type": "markdown",
   "id": "90af5fb3",
   "metadata": {
    "slideshow": {
     "slide_type": "fragment"
    }
   },
   "source": [
    "* Integración directa con otros servicios cloud del mismo prestador"
   ]
  },
  {
   "cell_type": "markdown",
   "id": "77ff4a71",
   "metadata": {
    "slideshow": {
     "slide_type": "slide"
    }
   },
   "source": [
    "### Contras de utilizar máquinas virtuales"
   ]
  },
  {
   "cell_type": "markdown",
   "id": "8a26bb3d",
   "metadata": {
    "slideshow": {
     "slide_type": "fragment"
    }
   },
   "source": [
    "* Los recursos solicitados pueden no estar disponibles"
   ]
  },
  {
   "cell_type": "markdown",
   "id": "ea883953",
   "metadata": {
    "slideshow": {
     "slide_type": "fragment"
    }
   },
   "source": [
    "* Alto costo a largo plazo"
   ]
  },
  {
   "cell_type": "markdown",
   "id": "e800d0a5",
   "metadata": {
    "slideshow": {
     "slide_type": "slide"
    }
   },
   "source": [
    "## ¿Usar MV es lo más eficiente para realizar tareas de machine learning en la nube?"
   ]
  },
  {
   "cell_type": "markdown",
   "id": "d57e8cab",
   "metadata": {
    "slideshow": {
     "slide_type": "fragment"
    }
   },
   "source": [
    "* Los modelos en MV no escalan (Inferencia)"
   ]
  },
  {
   "cell_type": "markdown",
   "id": "50885492",
   "metadata": {
    "slideshow": {
     "slide_type": "fragment"
    }
   },
   "source": [
    "* Entrenamiento y despliegue de modelos complejo de automatizar"
   ]
  },
  {
   "cell_type": "markdown",
   "id": "584bf193",
   "metadata": {
    "slideshow": {
     "slide_type": "subslide"
    }
   },
   "source": [
    "# <center>[<img src=\"images/mlstudiovsvertex.png\" width=\"60%\"/>](attachment:image.png)</center>"
   ]
  },
  {
   "cell_type": "markdown",
   "id": "23a5f460",
   "metadata": {
    "slideshow": {
     "slide_type": "subslide"
    }
   },
   "source": [
    "### Ventajas al utilizar servicios especializados para ML en la nube"
   ]
  },
  {
   "cell_type": "markdown",
   "id": "b6a4a203",
   "metadata": {
    "slideshow": {
     "slide_type": "fragment"
    }
   },
   "source": [
    "* Deployment escalable y automatizado de modelos"
   ]
  },
  {
   "cell_type": "markdown",
   "id": "cb53cd95",
   "metadata": {
    "slideshow": {
     "slide_type": "fragment"
    }
   },
   "source": [
    "* Entrenamiento automatizado (pipelines)"
   ]
  },
  {
   "cell_type": "markdown",
   "id": "59e54a4e",
   "metadata": {
    "slideshow": {
     "slide_type": "fragment"
    }
   },
   "source": [
    "* Disponibilidad de una familia de modelos pre entrenados a través de API"
   ]
  },
  {
   "cell_type": "markdown",
   "id": "cbff1ad0",
   "metadata": {
    "slideshow": {
     "slide_type": "fragment"
    }
   },
   "source": [
    "* Creación de notebooks jupyter"
   ]
  },
  {
   "cell_type": "markdown",
   "id": "a780998e",
   "metadata": {
    "slideshow": {
     "slide_type": "slide"
    }
   },
   "source": [
    "# <center>[<img src=\"images/mlsteps.jpg\" width=\"80%\"/>](attachment:image.png)</center>"
   ]
  },
  {
   "cell_type": "markdown",
   "id": "47f9a375",
   "metadata": {
    "slideshow": {
     "slide_type": "slide"
    }
   },
   "source": [
    "## Deployment de modelos de ML"
   ]
  },
  {
   "cell_type": "markdown",
   "id": "589d3e22",
   "metadata": {
    "slideshow": {
     "slide_type": "fragment"
    }
   },
   "source": [
    "* Disponibilizar modelos para el uso real de usuarios"
   ]
  },
  {
   "cell_type": "markdown",
   "id": "907bce5b",
   "metadata": {
    "slideshow": {
     "slide_type": "fragment"
    }
   },
   "source": [
    "# <center>[<img src=\"images/depl.png\" width=\"50%\"/>](attachment:image.png)</center>"
   ]
  },
  {
   "cell_type": "markdown",
   "id": "f558970d",
   "metadata": {
    "slideshow": {
     "slide_type": "subslide"
    }
   },
   "source": [
    "## Modelo como API\n",
    "# <center>[<img src=\"images/apimodel.png\" width=\"70%\"/>](attachment:image.png)</center>"
   ]
  },
  {
   "cell_type": "markdown",
   "id": "990925b4",
   "metadata": {
    "slideshow": {
     "slide_type": "slide"
    }
   },
   "source": [
    "## Frameworks para deployment de modelos"
   ]
  },
  {
   "cell_type": "markdown",
   "id": "61fae36b",
   "metadata": {
    "slideshow": {
     "slide_type": "subslide"
    }
   },
   "source": [
    "# <center>[<img src=\"images/deploy.png\" width=\"70%\"/>](attachment:image.png)</center>"
   ]
  },
  {
   "cell_type": "markdown",
   "id": "843cbdb0",
   "metadata": {
    "slideshow": {
     "slide_type": "subslide"
    }
   },
   "source": [
    "### Ejemplo:  Bento ML"
   ]
  },
  {
   "cell_type": "code",
   "execution_count": 18,
   "id": "eed7ec10",
   "metadata": {
    "slideshow": {
     "slide_type": "fragment"
    }
   },
   "outputs": [
    {
     "name": "stdout",
     "output_type": "stream",
     "text": [
      "2024-06-10T20:01:59-0400 [WARNING] [cli] Using lowercased runnable class name 'gpt2' for runner.\n",
      "2024-06-10T20:01:59-0400 [INFO] [cli] Environ for worker 0: set CUDA_VISIBLE_DEVICES to 0\n",
      "2024-06-10T20:01:59-0400 [INFO] [cli] Prometheus metrics for HTTP BentoServer from \"server:svc\" can be accessed at http://localhost:11000/metrics.\n",
      "2024-06-10T20:02:00-0400 [INFO] [cli] Starting production HTTP BentoServer from \"server:svc\" listening on http://0.0.0.0:11000 (Press CTRL+C to quit)\n",
      "2024-06-10T20:02:03-0400 [WARNING] [api_server:1] Using lowercased runnable class name 'gpt2' for runner.\n",
      "2024-06-10T20:02:03-0400 [WARNING] [api_server:2] Using lowercased runnable class name 'gpt2' for runner.\n",
      "2024-06-10T20:02:03-0400 [WARNING] [api_server:6] Using lowercased runnable class name 'gpt2' for runner.\n",
      "2024-06-10T20:02:03-0400 [WARNING] [runner:gpt2:1] Using lowercased runnable class name 'gpt2' for runner.\n",
      "2024-06-10T20:02:03-0400 [WARNING] [api_server:11] Using lowercased runnable class name 'gpt2' for runner.\n",
      "2024-06-10T20:02:03-0400 [WARNING] [api_server:8] Using lowercased runnable class name 'gpt2' for runner.\n",
      "2024-06-10T20:02:03-0400 [WARNING] [api_server:4] Using lowercased runnable class name 'gpt2' for runner.\n",
      "2024-06-10T20:02:03-0400 [WARNING] [api_server:10] Using lowercased runnable class name 'gpt2' for runner.\n",
      "2024-06-10T20:02:03-0400 [WARNING] [api_server:3] Using lowercased runnable class name 'gpt2' for runner.\n",
      "2024-06-10T20:02:03-0400 [WARNING] [api_server:5] Using lowercased runnable class name 'gpt2' for runner.\n",
      "2024-06-10T20:02:03-0400 [WARNING] [api_server:12] Using lowercased runnable class name 'gpt2' for runner.\n",
      "2024-06-10T20:02:03-0400 [WARNING] [api_server:7] Using lowercased runnable class name 'gpt2' for runner.\n",
      "2024-06-10T20:02:03-0400 [WARNING] [api_server:9] Using lowercased runnable class name 'gpt2' for runner.\n",
      "2024-06-10T20:03:04-0400 [INFO] [api_server:12] 190.217.221.19:58372 (scheme=http,method=GET,path=/docs,type=,length=) (status=404,type=text/plain; charset=utf-8,length=9) 3.529ms (trace=678284b775f8c40f454c993618b0dccd,span=eda6d4ce21265fc7,sampled=0,service.name=gpt2_demo)\n",
      "2024-06-10T20:03:04-0400 [INFO] [api_server:12] 190.217.221.19:58372 (scheme=http,method=GET,path=/favicon.ico,type=,length=) (status=404,type=text/plain; charset=utf-8,length=9) 0.602ms (trace=550ec6a242f12c401ba9bd37dae97b5c,span=ea9152f6c56cafe2,sampled=0,service.name=gpt2_demo)\n",
      "2024-06-10T20:03:07-0400 [INFO] [api_server:12] 190.153.146.73:49616 (scheme=http,method=GET,path=/docs,type=,length=) (status=404,type=text/plain; charset=utf-8,length=9) 0.585ms (trace=f69f76f0ba7f1d75e9d0fa678dea4d8e,span=a46854343ff86db2,sampled=0,service.name=gpt2_demo)\n",
      "2024-06-10T20:03:07-0400 [INFO] [api_server:12] 190.153.146.73:49616 (scheme=http,method=GET,path=/favicon.ico,type=,length=) (status=404,type=text/plain; charset=utf-8,length=9) 0.600ms (trace=fb983871460d48cca0b193d0bce70d46,span=487c467bfc9efa4c,sampled=0,service.name=gpt2_demo)\n",
      "2024-06-10T20:03:07-0400 [INFO] [api_server:7] 186.189.90.93:52723 (scheme=http,method=GET,path=/docs,type=,length=) (status=404,type=text/plain; charset=utf-8,length=9) 3.639ms (trace=199a21f3ca9dcf6ed122fe2b893ed3f0,span=609be5d2daaf6875,sampled=0,service.name=gpt2_demo)\n",
      "2024-06-10T20:03:07-0400 [INFO] [api_server:7] 186.189.90.93:52723 (scheme=http,method=GET,path=/favicon.ico,type=,length=) (status=404,type=text/plain; charset=utf-8,length=9) 0.576ms (trace=1a437c45720ca72491659c8c055b97a8,span=3b19123e98b8d244,sampled=0,service.name=gpt2_demo)\n",
      "2024-06-10T20:03:09-0400 [INFO] [api_server:7] 186.189.101.23:57122 (scheme=http,method=GET,path=/docs,type=,length=) (status=404,type=text/plain; charset=utf-8,length=9) 0.799ms (trace=0d51cbc7c2cff0202aeb6a1d7c7278f8,span=14e6652d5ffad0c3,sampled=0,service.name=gpt2_demo)\n",
      "2024-06-10T20:03:09-0400 [INFO] [api_server:5] 179.57.111.3:58897 (scheme=http,method=GET,path=/docs,type=,length=) (status=404,type=text/plain; charset=utf-8,length=9) 2.897ms (trace=b9f7cf3117774963ebc964c677b01663,span=fd6ddc48f58697a7,sampled=0,service.name=gpt2_demo)\n",
      "2024-06-10T20:03:09-0400 [INFO] [api_server:7] 186.189.101.23:57122 (scheme=http,method=GET,path=/favicon.ico,type=,length=) (status=404,type=text/plain; charset=utf-8,length=9) 0.592ms (trace=9eb50101bcc4aaeab477ea64683c8aad,span=804ceba33f0842b2,sampled=0,service.name=gpt2_demo)\n",
      "2024-06-10T20:03:09-0400 [INFO] [api_server:7] 179.57.111.3:58898 (scheme=http,method=GET,path=/favicon.ico,type=,length=) (status=404,type=text/plain; charset=utf-8,length=9) 0.731ms (trace=11557af9c9e7b61a4ac2ee3bd0ccd855,span=018b7d6b9984536a,sampled=0,service.name=gpt2_demo)\n",
      "2024-06-10T20:03:10-0400 [INFO] [api_server:6] 179.60.66.160:17819 (scheme=http,method=GET,path=/docs,type=,length=) (status=404,type=text/plain; charset=utf-8,length=9) 3.527ms (trace=361b67b8d7887e8ef83cbecd0924310d,span=220d6fc61ecd1093,sampled=0,service.name=gpt2_demo)\n",
      "2024-06-10T20:03:10-0400 [INFO] [api_server:6] 179.60.66.160:17819 (scheme=http,method=GET,path=/favicon.ico,type=,length=) (status=404,type=text/plain; charset=utf-8,length=9) 0.558ms (trace=fffa6eb835ed6f92882c755c9aaa1d0b,span=bb54fa80627b7307,sampled=0,service.name=gpt2_demo)\n",
      "2024-06-10T20:03:12-0400 [INFO] [api_server:9] 190.215.92.28:53226 (scheme=http,method=GET,path=/docs,type=,length=) (status=404,type=text/plain; charset=utf-8,length=9) 3.538ms (trace=49c21a72849a7c8f5912a002fe8a5857,span=968a05f589ee5c42,sampled=0,service.name=gpt2_demo)\n",
      "2024-06-10T20:03:13-0400 [INFO] [api_server:9] 190.215.92.28:53226 (scheme=http,method=GET,path=/favicon.ico,type=,length=) (status=404,type=text/plain; charset=utf-8,length=9) 0.602ms (trace=4f00892b50cd73ab894ddca3b79a72bd,span=0b51b84e3a47cd44,sampled=0,service.name=gpt2_demo)\n",
      "2024-06-10T20:03:15-0400 [INFO] [api_server:10] 201.189.202.30:56510 (scheme=http,method=GET,path=/docs,type=,length=) (status=404,type=text/plain; charset=utf-8,length=9) 2.848ms (trace=8d9f07d57c9bf271d81f5dee66ee1baa,span=54ea43388d140661,sampled=0,service.name=gpt2_demo)\n",
      "2024-06-10T20:03:15-0400 [INFO] [api_server:10] 201.189.202.30:56510 (scheme=http,method=GET,path=/favicon.ico,type=,length=) (status=404,type=text/plain; charset=utf-8,length=9) 0.520ms (trace=edb285e327954d18c329996c8ef46558,span=795cec026282a349,sampled=0,service.name=gpt2_demo)\n",
      "2024-06-10T20:03:15-0400 [INFO] [api_server:5] 190.153.146.73:49617 (scheme=http,method=GET,path=/,type=,length=) (status=200,type=text/html; charset=utf-8,length=2945) 0.371ms (trace=c248be52e1805818135a47836de4beaa,span=fa3c46a497c971dd,sampled=0,service.name=gpt2_demo)\n",
      "2024-06-10T20:03:15-0400 [INFO] [api_server:5] 190.153.146.73:49617 (scheme=http,method=GET,path=/static_content/swagger-ui.css,type=,length=) (status=200,type=text/css; charset=utf-8,length=152059) 4.019ms (trace=72a18db9a628b90ccaff089ee7a3ac10,span=584bdab725363523,sampled=0,service.name=gpt2_demo)\n",
      "2024-06-10T20:03:15-0400 [INFO] [api_server:7] 190.153.146.73:49618 (scheme=http,method=GET,path=/static_content/index.css,type=,length=) (status=200,type=text/css; charset=utf-8,length=1127) 4.256ms (trace=899a2000faa325514d51ea29d22030a9,span=3f86d207fc95aea7,sampled=0,service.name=gpt2_demo)\n",
      "2024-06-10T20:03:15-0400 [INFO] [api_server:3] 190.153.146.73:49621 (scheme=http,method=GET,path=/static_content/swagger-initializer.js,type=,length=) (status=200,type=text/javascript; charset=utf-8,length=331) 9.378ms (trace=b922a04b250731e464ab99f7b3a3ff30,span=c474e80b682f7fb3,sampled=0,service.name=gpt2_demo)\n",
      "2024-06-10T20:03:15-0400 [INFO] [api_server:5] 190.153.146.73:49620 (scheme=http,method=GET,path=/static_content/swagger-ui-standalone-preset.js,type=,length=) (status=200,type=text/javascript; charset=utf-8,length=230777) 3.045ms (trace=2f859e4e1264504246c4dcddbe4e6539,span=ae788497dc31dcb1,sampled=0,service.name=gpt2_demo)\n",
      "2024-06-10T20:03:15-0400 [INFO] [api_server:11] 190.153.146.73:49619 (scheme=http,method=GET,path=/static_content/swagger-ui-bundle.js,type=,length=) (status=200,type=text/javascript; charset=utf-8,length=1415333) 96.371ms (trace=f901d494276e72c3dfe6ef221005bb55,span=d391cda3d30b04dd,sampled=0,service.name=gpt2_demo)\n",
      "2024-06-10T20:03:16-0400 [INFO] [api_server:5] 190.153.146.73:49617 (scheme=http,method=GET,path=/docs.json,type=,length=) (status=200,type=application/json,length=4572) 7.948ms (trace=ea562f8758f0a6780546a7ecc0841dd6,span=f17fb0721528b824,sampled=0,service.name=gpt2_demo)\n",
      "2024-06-10T20:03:16-0400 [INFO] [api_server:3] 190.153.146.73:49621 (scheme=http,method=GET,path=/static_content/favicon-dark-32x32.png,type=,length=) (status=200,type=image/png,length=654) 1.088ms (trace=47e1c2d1c23c925404fca99fa813adba,span=4b0974f79c56290e,sampled=0,service.name=gpt2_demo)\n",
      "2024-06-10T20:03:16-0400 [INFO] [api_server:7] 190.153.146.73:49618 (scheme=http,method=GET,path=/static_content/favicon-light-32x32.png,type=,length=) (status=200,type=image/png,length=640) 1.357ms (trace=daa5b3057aa1fac03e9b8bc23fbb5daf,span=a0829a5507fac11a,sampled=0,service.name=gpt2_demo)\n"
     ]
    },
    {
     "name": "stdout",
     "output_type": "stream",
     "text": [
      "2024-06-10T20:03:17-0400 [INFO] [api_server:3] 190.215.92.28:53237 (scheme=http,method=GET,path=/docs,type=,length=) (status=404,type=text/plain; charset=utf-8,length=9) 0.706ms (trace=19421eff0ed7131450cfd5e57cd6ca6a,span=dd318531ccd376f1,sampled=0,service.name=gpt2_demo)\n",
      "2024-06-10T20:03:17-0400 [INFO] [api_server:2] 190.196.33.80:37876 (scheme=http,method=GET,path=/,type=,length=) (status=200,type=text/html; charset=utf-8,length=2945) 0.378ms (trace=2665afefbceb958388438e78551e1da5,span=96b7c3b8e4983c23,sampled=0,service.name=gpt2_demo)\n",
      "2024-06-10T20:03:17-0400 [INFO] [api_server:2] 190.196.33.80:42029 (scheme=http,method=GET,path=/static_content/index.css,type=,length=) (status=200,type=text/css; charset=utf-8,length=1127) 5.153ms (trace=083ea936f8d23181f5c00ad4e64d3172,span=6f199dd48f4e9ebd,sampled=0,service.name=gpt2_demo)\n",
      "2024-06-10T20:03:17-0400 [INFO] [api_server:2] 190.196.33.80:37876 (scheme=http,method=GET,path=/static_content/swagger-ui.css,type=,length=) (status=200,type=text/css; charset=utf-8,length=152059) 10.083ms (trace=d9ecefa5b4336de09ebd960e26c078ea,span=b053b5522bf13200,sampled=0,service.name=gpt2_demo)\n",
      "2024-06-10T20:03:17-0400 [INFO] [api_server:7] 190.196.33.80:48263 (scheme=http,method=GET,path=/static_content/swagger-initializer.js,type=,length=) (status=200,type=text/javascript; charset=utf-8,length=331) 1.041ms (trace=f624d609cdfa3123e75694a5b6052198,span=c85e1beb96d28b27,sampled=0,service.name=gpt2_demo)\n",
      "2024-06-10T20:03:17-0400 [INFO] [api_server:4] 190.196.33.80:43586 (scheme=http,method=GET,path=/static_content/swagger-ui-standalone-preset.js,type=,length=) (status=200,type=text/javascript; charset=utf-8,length=230777) 6.537ms (trace=8fb7f37cc400d94e2f24032b38461c56,span=c58201c14e477059,sampled=0,service.name=gpt2_demo)\n",
      "2024-06-10T20:03:17-0400 [INFO] [api_server:12] 44.196.175.104:54906 (scheme=http,method=GET,path=/docs.json,type=,length=) (status=200,type=application/json,length=4572) 11.759ms (trace=b7806fe9edc206052cbd297aa6a245ae,span=e3440cb1bc6b62b9,sampled=0,service.name=gpt2_demo)\n",
      "2024-06-10T20:03:17-0400 [INFO] [api_server:12] 190.196.33.80:39924 (scheme=http,method=GET,path=/static_content/swagger-ui-bundle.js,type=,length=) (status=200,type=text/javascript; charset=utf-8,length=1415333) 90.090ms (trace=5bbd1af7ed4ffa218228a94315e1141b,span=929708151494d864,sampled=0,service.name=gpt2_demo)\n",
      "2024-06-10T20:03:17-0400 [INFO] [api_server:12] 190.196.33.80:39924 (scheme=http,method=GET,path=/docs.json,type=,length=) (status=200,type=application/json,length=4572) 1.728ms (trace=ccd47cbc645165f179102571014ea781,span=c0c2f42875d732d1,sampled=0,service.name=gpt2_demo)\n",
      "2024-06-10T20:03:17-0400 [INFO] [api_server:12] 190.196.33.80:39924 (scheme=http,method=GET,path=/static_content/favicon-light-32x32.png,type=,length=) (status=200,type=image/png,length=640) 1.168ms (trace=95067fd98eab333396b4e08c17349cd7,span=53cb4cc25e53d890,sampled=0,service.name=gpt2_demo)\n",
      "2024-06-10T20:03:17-0400 [INFO] [api_server:3] 45.232.95.184:58221 (scheme=http,method=GET,path=/docs,type=,length=) (status=404,type=text/plain; charset=utf-8,length=9) 0.714ms (trace=fb5c9ecda1ead73c02282d8e7099ee6b,span=2c273b2135356f3a,sampled=0,service.name=gpt2_demo)\n",
      "2024-06-10T20:03:18-0400 [INFO] [api_server:10] 44.196.175.104:30654 (scheme=http,method=GET,path=/docs.json,type=,length=) (status=200,type=application/json,length=4572) 10.256ms (trace=f17375bd1b87b9d2f90197b426043251,span=0f3ca614637e8cc5,sampled=0,service.name=gpt2_demo)\n",
      "2024-06-10T20:03:18-0400 [INFO] [api_server:3] 45.232.95.184:58221 (scheme=http,method=GET,path=/favicon.ico,type=,length=) (status=404,type=text/plain; charset=utf-8,length=9) 0.574ms (trace=41045927d5dc7e9df79d544bc9ffc399,span=93ec58ea63c5ee8e,sampled=0,service.name=gpt2_demo)\n",
      "2024-06-10T20:03:21-0400 [INFO] [api_server:3] 190.217.221.19:58373 (scheme=http,method=GET,path=/,type=,length=) (status=200,type=text/html; charset=utf-8,length=2945) 0.532ms (trace=d2b92278e2489014148877d0ff69faf6,span=5b340b178e5e89be,sampled=0,service.name=gpt2_demo)\n",
      "2024-06-10T20:03:21-0400 [INFO] [api_server:3] 190.217.221.19:58373 (scheme=http,method=GET,path=/static_content/swagger-ui.css,type=,length=) (status=200,type=text/css; charset=utf-8,length=152059) 1.868ms (trace=8c1b3130bca82d20a1547a17533bc992,span=c04b25c8439feebd,sampled=0,service.name=gpt2_demo)\n",
      "2024-06-10T20:03:21-0400 [INFO] [api_server:9] 190.217.221.19:58375 (scheme=http,method=GET,path=/static_content/index.css,type=,length=) (status=200,type=text/css; charset=utf-8,length=1127) 4.452ms (trace=05cb96d30bd3577823e98e2e6864c012,span=05bd614ff2efc356,sampled=0,service.name=gpt2_demo)\n",
      "2024-06-10T20:03:21-0400 [INFO] [api_server:7] 190.217.221.19:58377 (scheme=http,method=GET,path=/static_content/swagger-initializer.js,type=,length=) (status=200,type=text/javascript; charset=utf-8,length=331) 1.415ms (trace=2435e0b564b9807c0db82ec971637916,span=6968f9b4868acbfa,sampled=0,service.name=gpt2_demo)\n",
      "2024-06-10T20:03:21-0400 [INFO] [api_server:5] 190.217.221.19:58376 (scheme=http,method=GET,path=/static_content/swagger-ui-standalone-preset.js,type=,length=) (status=200,type=text/javascript; charset=utf-8,length=230777) 1.724ms (trace=0e0332a1f89a39757fe9a33c941fd66a,span=9747c383458ba842,sampled=0,service.name=gpt2_demo)\n",
      "2024-06-10T20:03:21-0400 [INFO] [api_server:9] 190.217.221.19:58378 (scheme=http,method=GET,path=/static_content/swagger-ui-bundle.js,type=,length=) (status=200,type=text/javascript; charset=utf-8,length=1415333) 131.342ms (trace=ec6dcc580d011d60c82cdb35d17c911b,span=6004b94aeab72204,sampled=0,service.name=gpt2_demo)\n",
      "2024-06-10T20:03:21-0400 [INFO] [api_server:9] 190.217.221.19:58378 (scheme=http,method=GET,path=/docs.json,type=,length=) (status=200,type=application/json,length=4572) 13.080ms (trace=1485a8813e312ec371c1fb8ef7711c4c,span=c668a74b6feedebf,sampled=0,service.name=gpt2_demo)\n",
      "2024-06-10T20:03:22-0400 [INFO] [api_server:7] 44.196.175.104:35566 (scheme=http,method=GET,path=/docs.json,type=,length=) (status=200,type=application/json,length=4572) 10.664ms (trace=c46c52d40c31188a6580b7d4f3b42e99,span=c7b1d53557fac5ca,sampled=0,service.name=gpt2_demo)\n",
      "2024-06-10T20:03:26-0400 [INFO] [api_server:9] 186.107.17.61:52064 (scheme=http,method=GET,path=/docs,type=,length=) (status=404,type=text/plain; charset=utf-8,length=9) 0.563ms (trace=6412b8601de2460df4eb357ffd1b111f,span=58287168567a6a16,sampled=0,service.name=gpt2_demo)\n",
      "2024-06-10T20:03:26-0400 [INFO] [api_server:3] 186.189.90.93:52722 (scheme=http,method=GET,path=/,type=,length=) (status=200,type=text/html; charset=utf-8,length=2945) 0.283ms (trace=df9ee761d392c9aa97870742a42f7ce1,span=e8717b70164d9a62,sampled=0,service.name=gpt2_demo)\n",
      "2024-06-10T20:03:26-0400 [INFO] [api_server:5] 186.189.90.93:52732 (scheme=http,method=GET,path=/static_content/index.css,type=,length=) (status=200,type=text/css; charset=utf-8,length=1127) 1.110ms (trace=c7ff194dd68384917ff2a97e9ebf32e5,span=91371b0b9f9995e2,sampled=0,service.name=gpt2_demo)\n",
      "2024-06-10T20:03:26-0400 [INFO] [api_server:3] 186.189.90.93:52722 (scheme=http,method=GET,path=/static_content/swagger-ui.css,type=,length=) (status=200,type=text/css; charset=utf-8,length=152059) 1.618ms (trace=7ef5d9265df884914481cd5db71edb23,span=c68d64fa3e3c399e,sampled=0,service.name=gpt2_demo)\n",
      "2024-06-10T20:03:26-0400 [INFO] [api_server:7] 186.189.90.93:12807 (scheme=http,method=GET,path=/static_content/swagger-initializer.js,type=,length=) (status=200,type=text/javascript; charset=utf-8,length=331) 1.162ms (trace=3301504fd90077ace5bb01993a43d966,span=4ed639cd6a3f780c,sampled=0,service.name=gpt2_demo)\n",
      "2024-06-10T20:03:26-0400 [INFO] [api_server:5] 186.189.90.93:52734 (scheme=http,method=GET,path=/static_content/swagger-ui-standalone-preset.js,type=,length=) (status=200,type=text/javascript; charset=utf-8,length=230777) 1.802ms (trace=b0c81ba1bbbdd601d7554b29524bc796,span=8248135b64449978,sampled=0,service.name=gpt2_demo)\n",
      "2024-06-10T20:03:26-0400 [INFO] [api_server:9] 186.189.90.93:52733 (scheme=http,method=GET,path=/static_content/swagger-ui-bundle.js,type=,length=) (status=200,type=text/javascript; charset=utf-8,length=1415333) 82.478ms (trace=d0422b2da9f5a418cc1e25c5f321aa14,span=c6db97713bc96cf6,sampled=0,service.name=gpt2_demo)\n",
      "2024-06-10T20:03:26-0400 [INFO] [api_server:9] 186.189.90.93:52733 (scheme=http,method=GET,path=/docs.json,type=,length=) (status=200,type=application/json,length=4572) 2.222ms (trace=0d5c7b236a99ffb9ddf1b608ae1b161b,span=626f63c9b7f7c902,sampled=0,service.name=gpt2_demo)\n",
      "2024-06-10T20:03:26-0400 [INFO] [api_server:5] 186.189.90.93:52734 (scheme=http,method=GET,path=/static_content/favicon-dark-32x32.png,type=,length=) (status=200,type=image/png,length=654) 1.537ms (trace=189c09c256e65fa619d37a842093a6cd,span=f06b3c77060c329a,sampled=0,service.name=gpt2_demo)\n",
      "2024-06-10T20:03:26-0400 [INFO] [api_server:9] 186.107.17.61:52064 (scheme=http,method=GET,path=/favicon.ico,type=,length=) (status=404,type=text/plain; charset=utf-8,length=9) 0.561ms (trace=53228ec293f2eebc6f56245ca426da2f,span=302400cf85d475ed,sampled=0,service.name=gpt2_demo)\n"
     ]
    },
    {
     "name": "stdout",
     "output_type": "stream",
     "text": [
      "2024-06-10T20:03:28-0400 [INFO] [api_server:7] 44.196.175.104:30597 (scheme=http,method=GET,path=/docs.json,type=,length=) (status=200,type=application/json,length=4572) 2.252ms (trace=fb6ff48ee715228439abac8a7a610828,span=6a36d9594f206eb5,sampled=0,service.name=gpt2_demo)\n",
      "2024-06-10T20:03:29-0400 [INFO] [api_server:3] 201.189.202.30:56511 (scheme=http,method=GET,path=/,type=,length=) (status=200,type=text/html; charset=utf-8,length=2945) 0.364ms (trace=18ada799ccc63013507048a6593edb26,span=1c6eb5bcd14460ed,sampled=0,service.name=gpt2_demo)\n",
      "2024-06-10T20:03:29-0400 [INFO] [api_server:3] 201.189.202.30:56511 (scheme=http,method=GET,path=/static_content/swagger-ui.css,type=,length=) (status=200,type=text/css; charset=utf-8,length=152059) 1.757ms (trace=f8d769e6d12ffd7453288aa752e5f8f5,span=94760468b02b9735,sampled=0,service.name=gpt2_demo)\n",
      "2024-06-10T20:03:29-0400 [INFO] [api_server:12] 201.189.202.30:56541 (scheme=http,method=GET,path=/static_content/index.css,type=,length=) (status=200,type=text/css; charset=utf-8,length=1127) 1.192ms (trace=aee787d8d468e1222ca4ec3d53408cc5,span=dbb3d275e01c5084,sampled=0,service.name=gpt2_demo)\n",
      "2024-06-10T20:03:29-0400 [INFO] [api_server:3] 201.189.202.30:56546 (scheme=http,method=GET,path=/static_content/swagger-initializer.js,type=,length=) (status=200,type=text/javascript; charset=utf-8,length=331) 1.229ms (trace=3872c252d75144e4034c629f64175ce1,span=e0493814ef3b00bd,sampled=0,service.name=gpt2_demo)\n",
      "2024-06-10T20:03:29-0400 [INFO] [api_server:9] 201.189.202.30:56545 (scheme=http,method=GET,path=/static_content/swagger-ui-standalone-preset.js,type=,length=) (status=200,type=text/javascript; charset=utf-8,length=230777) 2.634ms (trace=9ef6ec8bca4941230904c5bd4a4f51a8,span=4e5857d3b2020441,sampled=0,service.name=gpt2_demo)\n",
      "2024-06-10T20:03:29-0400 [INFO] [api_server:7] 201.189.202.30:56544 (scheme=http,method=GET,path=/static_content/swagger-ui-bundle.js,type=,length=) (status=200,type=text/javascript; charset=utf-8,length=1415333) 201.799ms (trace=85a4ebd88bbe454e6f95792459170ba6,span=9f548dd122443aeb,sampled=0,service.name=gpt2_demo)\n",
      "2024-06-10T20:03:29-0400 [INFO] [api_server:7] 45.232.95.184:58226 (scheme=http,method=GET,path=/,type=,length=) (status=200,type=text/html; charset=utf-8,length=2945) 0.352ms (trace=1a4397f49342fc4208d2590a71dfb8ee,span=cf3dacc9e9604ba3,sampled=0,service.name=gpt2_demo)\n",
      "2024-06-10T20:03:29-0400 [INFO] [api_server:7] 45.232.95.184:58226 (scheme=http,method=GET,path=/static_content/swagger-ui.css,type=,length=) (status=200,type=text/css; charset=utf-8,length=152059) 1.998ms (trace=382debb8259985ad868a99c6daf00b2c,span=a95b2cf9bfc77290,sampled=0,service.name=gpt2_demo)\n",
      "2024-06-10T20:03:29-0400 [INFO] [api_server:7] 45.232.95.184:58230 (scheme=http,method=GET,path=/static_content/index.css,type=,length=) (status=200,type=text/css; charset=utf-8,length=1127) 0.996ms (trace=08499ad65731ae4adddd14adb48dcb9f,span=200f535c1cc987fd,sampled=0,service.name=gpt2_demo)\n",
      "2024-06-10T20:03:29-0400 [INFO] [api_server:5] 45.232.95.184:24599 (scheme=http,method=GET,path=/static_content/swagger-initializer.js,type=,length=) (status=200,type=text/javascript; charset=utf-8,length=331) 1.543ms (trace=ff04530959258c88503a9edd9c3c6deb,span=622d17a1ff8bdd7f,sampled=0,service.name=gpt2_demo)\n",
      "2024-06-10T20:03:29-0400 [INFO] [api_server:7] 45.232.95.184:58228 (scheme=http,method=GET,path=/static_content/swagger-ui-standalone-preset.js,type=,length=) (status=200,type=text/javascript; charset=utf-8,length=230777) 1.745ms (trace=c52b408a10a687e42447269f8483da4a,span=88db7e008b8f54f0,sampled=0,service.name=gpt2_demo)\n",
      "2024-06-10T20:03:29-0400 [INFO] [api_server:7] 201.189.202.30:56544 (scheme=http,method=GET,path=/docs.json,type=,length=) (status=200,type=application/json,length=4572) 0.596ms (trace=5fbcbbedb9e8e9ba182b0ab3880d2fbf,span=78bbcd9ec8788dc4,sampled=0,service.name=gpt2_demo)\n",
      "2024-06-10T20:03:30-0400 [INFO] [api_server:9] 201.189.202.30:56545 (scheme=http,method=GET,path=/static_content/favicon-dark-32x32.png,type=,length=) (status=200,type=image/png,length=654) 0.982ms (trace=98165caba65244dc61468a1041191d07,span=bd7e020043eb52e6,sampled=0,service.name=gpt2_demo)\n",
      "2024-06-10T20:03:30-0400 [INFO] [api_server:5] 45.232.95.184:24597 (scheme=http,method=GET,path=/static_content/swagger-ui-bundle.js,type=,length=) (status=200,type=text/javascript; charset=utf-8,length=1415333) 73.673ms (trace=b6412baafffc516b5412b5ed21ef30b2,span=0cc210dfb21631b2,sampled=0,service.name=gpt2_demo)\n",
      "2024-06-10T20:03:30-0400 [INFO] [api_server:9] 190.114.33.167:41198 (scheme=http,method=GET,path=/,type=,length=) (status=200,type=text/html; charset=utf-8,length=2945) 0.296ms (trace=9c44a3ff9ca4a1e0ed4da090f9f65e9f,span=c1821637e48e6937,sampled=0,service.name=gpt2_demo)\n",
      "2024-06-10T20:03:30-0400 [INFO] [api_server:5] 190.114.33.167:41289 (scheme=http,method=GET,path=/static_content/index.css,type=,length=) (status=200,type=text/css; charset=utf-8,length=1127) 1.023ms (trace=8b0825e2898fbc23cf2bfa38f1c69753,span=f5141afec072fc29,sampled=0,service.name=gpt2_demo)\n",
      "2024-06-10T20:03:30-0400 [INFO] [api_server:9] 190.114.33.167:41198 (scheme=http,method=GET,path=/static_content/swagger-ui.css,type=,length=) (status=200,type=text/css; charset=utf-8,length=152059) 1.876ms (trace=7654448a610ebdcc3b8cc2481de63ae3,span=234bb072232c10e2,sampled=0,service.name=gpt2_demo)\n",
      "2024-06-10T20:03:30-0400 [INFO] [api_server:9] 190.114.33.167:41273 (scheme=http,method=GET,path=/static_content/swagger-initializer.js,type=,length=) (status=200,type=text/javascript; charset=utf-8,length=331) 1.220ms (trace=38e27c69051803d43962adf0c455e2e9,span=78c8a44e36ce58a2,sampled=0,service.name=gpt2_demo)\n",
      "2024-06-10T20:03:30-0400 [INFO] [api_server:7] 190.114.33.167:41246 (scheme=http,method=GET,path=/static_content/swagger-ui-standalone-preset.js,type=,length=) (status=200,type=text/javascript; charset=utf-8,length=230777) 2.365ms (trace=33c3f8f3ab41e5f9cab7a6c93a05741a,span=1cb0a321551921a0,sampled=0,service.name=gpt2_demo)\n",
      "2024-06-10T20:03:30-0400 [INFO] [api_server:9] 190.114.33.167:41317 (scheme=http,method=GET,path=/static_content/swagger-ui-bundle.js,type=,length=) (status=200,type=text/javascript; charset=utf-8,length=1415333) 193.261ms (trace=cec8d88cf3fa42a2867b529443a516c6,span=7cb0dcef4393d24a,sampled=0,service.name=gpt2_demo)\n",
      "2024-06-10T20:03:30-0400 [INFO] [api_server:5] 45.232.95.184:24597 (scheme=http,method=GET,path=/docs.json,type=,length=) (status=200,type=application/json,length=4572) 2.085ms (trace=254fcf963b7e1bd81276f245bb66903d,span=7b72929ea694e5ba,sampled=0,service.name=gpt2_demo)\n",
      "2024-06-10T20:03:30-0400 [INFO] [api_server:5] 45.232.95.184:24597 (scheme=http,method=GET,path=/static_content/favicon-light-32x32.png,type=,length=) (status=200,type=image/png,length=640) 0.951ms (trace=31c854f232c7f81f5aa942a75d6a0597,span=5c0260ca664b3f52,sampled=0,service.name=gpt2_demo)\n",
      "2024-06-10T20:03:30-0400 [INFO] [api_server:9] 190.114.33.167:41317 (scheme=http,method=GET,path=/docs.json,type=,length=) (status=200,type=application/json,length=4572) 0.896ms (trace=c9cc16fec8a7ed69d416600544a0579e,span=6cf78d0102c09329,sampled=0,service.name=gpt2_demo)\n",
      "2024-06-10T20:03:30-0400 [INFO] [api_server:9] 190.114.33.167:41317 (scheme=http,method=GET,path=/static_content/favicon-light-32x32.png,type=,length=) (status=200,type=image/png,length=640) 1.175ms (trace=e3be0a274f1f81b31d839403da0d19c8,span=e129961d98edb21d,sampled=0,service.name=gpt2_demo)\n",
      "2024-06-10T20:03:30-0400 [INFO] [api_server:9] 44.196.175.104:60309 (scheme=http,method=GET,path=/docs.json,type=,length=) (status=200,type=application/json,length=4572) 0.867ms (trace=198ae337db72a1e46e505328a9243802,span=6c009b6ad125c951,sampled=0,service.name=gpt2_demo)\n",
      "2024-06-10T20:03:31-0400 [INFO] [api_server:9] 179.60.66.160:17820 (scheme=http,method=GET,path=/,type=,length=) (status=200,type=text/html; charset=utf-8,length=2945) 0.279ms (trace=ece5c953bade9511677e413207b2a728,span=c8461cf57c9b9416,sampled=0,service.name=gpt2_demo)\n",
      "2024-06-10T20:03:31-0400 [INFO] [api_server:9] 179.60.66.160:17820 (scheme=http,method=GET,path=/static_content/swagger-ui.css,type=,length=) (status=200,type=text/css; charset=utf-8,length=152059) 1.806ms (trace=f10273e7e2e5dfacba40465086304961,span=e7cd093214bb395a,sampled=0,service.name=gpt2_demo)\n",
      "2024-06-10T20:03:31-0400 [INFO] [api_server:5] 179.60.66.160:17731 (scheme=http,method=GET,path=/static_content/index.css,type=,length=) (status=200,type=text/css; charset=utf-8,length=1127) 1.059ms (trace=841086ca9613722384adfbf1e7004061,span=07f68f7e268a0b39,sampled=0,service.name=gpt2_demo)\n",
      "2024-06-10T20:03:31-0400 [INFO] [api_server:7] 179.60.66.160:17871 (scheme=http,method=GET,path=/static_content/swagger-initializer.js,type=,length=) (status=200,type=text/javascript; charset=utf-8,length=331) 1.023ms (trace=b0a7a9596b9db9b0aaae101b212343ec,span=6d469f32f9c02d7c,sampled=0,service.name=gpt2_demo)\n",
      "2024-06-10T20:03:31-0400 [INFO] [api_server:5] 179.60.66.160:17780 (scheme=http,method=GET,path=/static_content/swagger-ui-bundle.js,type=,length=) (status=200,type=text/javascript; charset=utf-8,length=1415333) 70.090ms (trace=e364b8f42cd44f1abe840b5569792de7,span=3366bf0381cceaa2,sampled=0,service.name=gpt2_demo)\n"
     ]
    },
    {
     "name": "stdout",
     "output_type": "stream",
     "text": [
      "2024-06-10T20:03:31-0400 [INFO] [api_server:9] 179.60.66.160:17778 (scheme=http,method=GET,path=/static_content/swagger-ui-standalone-preset.js,type=,length=) (status=200,type=text/javascript; charset=utf-8,length=230777) 1.651ms (trace=c254146d5e029ed68abaf2d76e6c2931,span=f0ea1be171c95b40,sampled=0,service.name=gpt2_demo)\n",
      "2024-06-10T20:03:31-0400 [INFO] [api_server:5] 44.196.175.104:60936 (scheme=http,method=GET,path=/docs.json,type=,length=) (status=200,type=application/json,length=4572) 0.574ms (trace=3dcdf883d53f0415c5f406bce6169c3d,span=3d4a0bdac4669ce4,sampled=0,service.name=gpt2_demo)\n",
      "2024-06-10T20:03:31-0400 [INFO] [api_server:7] 44.196.175.104:6329 (scheme=http,method=GET,path=/docs.json,type=,length=) (status=200,type=application/json,length=4572) 0.855ms (trace=74ec0d1771769fb362f5217d86742c97,span=853bf0a24fda66e6,sampled=0,service.name=gpt2_demo)\n",
      "2024-06-10T20:03:31-0400 [INFO] [api_server:9] 179.60.66.160:17778 (scheme=http,method=GET,path=/docs.json,type=,length=) (status=200,type=application/json,length=4572) 1.064ms (trace=72e46330d65cc1eece41aa1f6be18d9b,span=78d739d6a7e6ed4a,sampled=0,service.name=gpt2_demo)\n",
      "2024-06-10T20:03:31-0400 [INFO] [api_server:9] 179.60.66.160:17778 (scheme=http,method=GET,path=/static_content/favicon-dark-32x32.png,type=,length=) (status=200,type=image/png,length=654) 1.080ms (trace=1cf9f1afbc887aff871524238fd3975d,span=13997f41954e6a48,sampled=0,service.name=gpt2_demo)\n",
      "2024-06-10T20:03:33-0400 [INFO] [api_server:7] 44.196.175.104:34110 (scheme=http,method=GET,path=/docs.json,type=,length=) (status=200,type=application/json,length=4572) 0.676ms (trace=3c9a9db5bc4de458998b530e3c89af65,span=c6e3f5f0e4f725a6,sampled=0,service.name=gpt2_demo)\n",
      "2024-06-10T20:03:37-0400 [INFO] [api_server:12] 186.107.17.61:52065 (scheme=http,method=GET,path=/,type=,length=) (status=200,type=text/html; charset=utf-8,length=2945) 0.397ms (trace=1215c1c5e81cd74ff9fd88e98a0aed46,span=13f8c1e2727dc244,sampled=0,service.name=gpt2_demo)\n",
      "2024-06-10T20:03:38-0400 [INFO] [api_server:12] 186.107.17.61:52068 (scheme=http,method=GET,path=/static_content/swagger-ui.css,type=,length=) (status=200,type=text/css; charset=utf-8,length=152059) 1.699ms (trace=ab6b0da591fe1df48fbdee60d73f72bc,span=adad345488814d81,sampled=0,service.name=gpt2_demo)\n",
      "2024-06-10T20:03:38-0400 [INFO] [api_server:4] 186.107.17.61:52069 (scheme=http,method=GET,path=/static_content/index.css,type=,length=) (status=200,type=text/css; charset=utf-8,length=1127) 0.995ms (trace=69bcf152de2a13e5b4d4040c564e0f11,span=33c0a7b67616654e,sampled=0,service.name=gpt2_demo)\n",
      "2024-06-10T20:03:38-0400 [INFO] [api_server:5] 186.107.17.61:52071 (scheme=http,method=GET,path=/static_content/swagger-initializer.js,type=,length=) (status=200,type=text/javascript; charset=utf-8,length=331) 1.023ms (trace=6664d7597675f2b1c6a43b16a0ec5f43,span=56b423c135a3a189,sampled=0,service.name=gpt2_demo)\n",
      "2024-06-10T20:03:39-0400 [INFO] [api_server:7] 179.57.111.3:58908 (scheme=http,method=GET,path=/,type=,length=) (status=200,type=text/html; charset=utf-8,length=2945) 0.283ms (trace=f30e03eb4cab7fc62fdfe8e4a5fb1251,span=ab945781b8b6c185,sampled=0,service.name=gpt2_demo)\n",
      "2024-06-10T20:03:39-0400 [INFO] [api_server:7] 179.57.111.3:58909 (scheme=http,method=GET,path=/static_content/swagger-ui.css,type=,length=) (status=200,type=text/css; charset=utf-8,length=152059) 3.408ms (trace=1739478dd6e1432285b9f131d4f422ab,span=0926596fdbefc9a2,sampled=0,service.name=gpt2_demo)\n",
      "2024-06-10T20:03:39-0400 [INFO] [api_server:7] 179.57.111.3:58908 (scheme=http,method=GET,path=/static_content/index.css,type=,length=) (status=200,type=text/css; charset=utf-8,length=1127) 2.152ms (trace=b1aaf3a1763923f82df5873deb98f447,span=01d41a1cd34fbf95,sampled=0,service.name=gpt2_demo)\n",
      "2024-06-10T20:03:39-0400 [INFO] [api_server:3] 179.57.111.3:58912 (scheme=http,method=GET,path=/static_content/swagger-initializer.js,type=,length=) (status=200,type=text/javascript; charset=utf-8,length=331) 0.775ms (trace=846ea3da6f08c5151438e3a64e1594a3,span=dceaf10a30b274ec,sampled=0,service.name=gpt2_demo)\n",
      "2024-06-10T20:03:39-0400 [INFO] [api_server:7] 179.57.111.3:58911 (scheme=http,method=GET,path=/static_content/swagger-ui-standalone-preset.js,type=,length=) (status=200,type=text/javascript; charset=utf-8,length=230777) 1.724ms (trace=b10c46848aba1465f3379ddde462ffd2,span=a19ae5d25b86902c,sampled=0,service.name=gpt2_demo)\n",
      "2024-06-10T20:03:39-0400 [INFO] [api_server:3] 179.57.111.3:58910 (scheme=http,method=GET,path=/static_content/swagger-ui-bundle.js,type=,length=) (status=200,type=text/javascript; charset=utf-8,length=1415333) 356.513ms (trace=a3e2d97c697ca611f0c08f24a615c5c7,span=18949a7577632554,sampled=0,service.name=gpt2_demo)\n",
      "2024-06-10T20:03:40-0400 [INFO] [api_server:3] 179.57.111.3:58910 (scheme=http,method=GET,path=/docs.json,type=,length=) (status=200,type=application/json,length=4572) 10.699ms (trace=98171f68e611d3d14ac93f93357670d3,span=d6566c5200b7c57b,sampled=0,service.name=gpt2_demo)\n",
      "2024-06-10T20:03:40-0400 [INFO] [api_server:12] 186.107.17.61:52072 (scheme=http,method=GET,path=/static_content/swagger-ui-standalone-preset.js,type=,length=) (status=200,type=text/javascript; charset=utf-8,length=230777) 2.328ms (trace=25ae2ff2f8829cd297a88c2182c1b385,span=1002dd4aa22ecce3,sampled=0,service.name=gpt2_demo)\n",
      "2024-06-10T20:03:40-0400 [INFO] [api_server:3] 179.57.111.3:58910 (scheme=http,method=GET,path=/static_content/favicon-dark-32x32.png,type=,length=) (status=200,type=image/png,length=654) 1.156ms (trace=bad87282218f30b34652e0a9d1dd7047,span=1ef8c2b6800c0365,sampled=0,service.name=gpt2_demo)\n",
      "2024-06-10T20:03:41-0400 [INFO] [api_server:7] 44.196.175.104:45890 (scheme=http,method=GET,path=/docs.json,type=,length=) (status=200,type=application/json,length=4572) 0.719ms (trace=149a16e947c7c23b06449e11ff139c5c,span=8c72216d7bb55b31,sampled=0,service.name=gpt2_demo)\n",
      "2024-06-10T20:03:43-0400 [INFO] [api_server:4] 186.189.101.23:57259 (scheme=http,method=GET,path=/,type=,length=) (status=200,type=text/html; charset=utf-8,length=2945) 0.278ms (trace=d186e6d4af48ac5fbffc1330ed5d4fdc,span=7578fda066fa95f8,sampled=0,service.name=gpt2_demo)\n",
      "2024-06-10T20:03:43-0400 [INFO] [api_server:4] 186.189.101.23:57259 (scheme=http,method=GET,path=/static_content/swagger-ui.css,type=,length=) (status=200,type=text/css; charset=utf-8,length=152059) 1.657ms (trace=e0f9e7422517c7fca3fa1022bbd419a5,span=8dc37af65d656776,sampled=0,service.name=gpt2_demo)\n",
      "2024-06-10T20:03:43-0400 [INFO] [api_server:7] 186.189.101.23:57215 (scheme=http,method=GET,path=/static_content/index.css,type=,length=) (status=200,type=text/css; charset=utf-8,length=1127) 1.364ms (trace=02bd1c7fcc9be3291c75ef5616cd8aa1,span=c5ad295506fb8548,sampled=0,service.name=gpt2_demo)\n",
      "2024-06-10T20:03:43-0400 [INFO] [api_server:5] 186.189.101.23:57171 (scheme=http,method=GET,path=/static_content/swagger-initializer.js,type=,length=) (status=200,type=text/javascript; charset=utf-8,length=331) 1.833ms (trace=6ca601ab2033c4d48712960d4753f2a2,span=40401e382939b6b0,sampled=0,service.name=gpt2_demo)\n",
      "2024-06-10T20:03:43-0400 [INFO] [api_server:5] 186.189.101.23:57128 (scheme=http,method=GET,path=/static_content/swagger-ui-standalone-preset.js,type=,length=) (status=200,type=text/javascript; charset=utf-8,length=230777) 3.181ms (trace=972b722faf69ad3c96131ebe17d0bbbc,span=350dcfa17e9649a3,sampled=0,service.name=gpt2_demo)\n",
      "2024-06-10T20:03:43-0400 [INFO] [api_server:7] 186.189.101.23:57176 (scheme=http,method=GET,path=/static_content/swagger-ui-bundle.js,type=,length=) (status=200,type=text/javascript; charset=utf-8,length=1415333) 73.111ms (trace=7c2bd3079b71d79606361761ee621785,span=74c93772fc2f8d8c,sampled=0,service.name=gpt2_demo)\n",
      "2024-06-10T20:03:44-0400 [INFO] [api_server:7] 186.189.101.23:57176 (scheme=http,method=GET,path=/docs.json,type=,length=) (status=200,type=application/json,length=4572) 0.601ms (trace=2fe07fd39924e4b5bea0b898a6eedab6,span=a81162c6cbbfd090,sampled=0,service.name=gpt2_demo)\n",
      "2024-06-10T20:03:44-0400 [INFO] [api_server:7] 186.189.101.23:57176 (scheme=http,method=GET,path=/static_content/favicon-dark-32x32.png,type=,length=) (status=200,type=image/png,length=654) 1.038ms (trace=55832448e25405b6d122b65ddd80c50f,span=aa6e79dcbf3044aa,sampled=0,service.name=gpt2_demo)\n"
     ]
    },
    {
     "name": "stdout",
     "output_type": "stream",
     "text": [
      "2024-06-10T20:03:44-0400 [WARNING] [api_server:7] Invalid HTTP request received.\n",
      "2024-06-10T20:03:44-0400 [WARNING] [api_server:7] Invalid HTTP request received.\n",
      "2024-06-10T20:03:44-0400 [INFO] [api_server:7] 179.56.131.197:55577 (scheme=http,method=GET,path=/,type=,length=) (status=200,type=text/html; charset=utf-8,length=2945) 0.225ms (trace=9bef1d176417fea274271c73644d6363,span=432c18d70dfb2773,sampled=0,service.name=gpt2_demo)\n",
      "2024-06-10T20:03:44-0400 [INFO] [api_server:7] 179.56.131.197:55577 (scheme=http,method=GET,path=/static_content/swagger-ui.css,type=,length=) (status=200,type=text/css; charset=utf-8,length=152059) 1.356ms (trace=32adf5ecbf7c68d03bc8a48242c20a67,span=25b2ad1a9735b307,sampled=0,service.name=gpt2_demo)\n",
      "2024-06-10T20:03:44-0400 [INFO] [api_server:7] 179.56.131.197:55578 (scheme=http,method=GET,path=/static_content/index.css,type=,length=) (status=200,type=text/css; charset=utf-8,length=1127) 0.851ms (trace=dcf43a01dbb3602852b19670e5fde1b7,span=1d046412c9ee056c,sampled=0,service.name=gpt2_demo)\n",
      "2024-06-10T20:03:44-0400 [INFO] [api_server:7] 179.56.131.197:55584 (scheme=http,method=GET,path=/static_content/swagger-initializer.js,type=,length=) (status=200,type=text/javascript; charset=utf-8,length=331) 2.975ms (trace=7e508f7ee50e9ee0f6db8f4ffd1aa8e9,span=020c4f780abfc404,sampled=0,service.name=gpt2_demo)\n",
      "2024-06-10T20:03:44-0400 [INFO] [api_server:7] 44.196.175.104:63047 (scheme=http,method=GET,path=/docs.json,type=,length=) (status=200,type=application/json,length=4572) 0.515ms (trace=19de9de9c2c92923aa2b126291ac8523,span=7f77f79e78a38800,sampled=0,service.name=gpt2_demo)\n",
      "2024-06-10T20:03:44-0400 [INFO] [api_server:7] 179.56.131.197:55583 (scheme=http,method=GET,path=/static_content/swagger-ui-standalone-preset.js,type=,length=) (status=200,type=text/javascript; charset=utf-8,length=230777) 4.398ms (trace=e3d92870cce27eb2d940c0b8801c50ac,span=6cfd172587486929,sampled=0,service.name=gpt2_demo)\n",
      "2024-06-10T20:03:44-0400 [INFO] [api_server:7] 179.56.131.197:55582 (scheme=http,method=GET,path=/static_content/swagger-ui-bundle.js,type=,length=) (status=200,type=text/javascript; charset=utf-8,length=1415333) 31.459ms (trace=a88115b7bb584758a335cbcec6ee9a72,span=609b52ea8c7b2634,sampled=0,service.name=gpt2_demo)\n",
      "2024-06-10T20:03:44-0400 [INFO] [api_server:3] 186.107.17.61:52070 (scheme=http,method=GET,path=/static_content/swagger-ui-bundle.js,type=,length=) (status=200,type=text/javascript; charset=utf-8,length=1415333) 6082.771ms (trace=8edf6b74b0a51c533053ba44f714959e,span=6611585150e1c0ed,sampled=0,service.name=gpt2_demo)\n",
      "2024-06-10T20:03:45-0400 [INFO] [api_server:7] 179.56.131.197:55582 (scheme=http,method=GET,path=/docs.json,type=,length=) (status=200,type=application/json,length=4572) 0.592ms (trace=370a571c7e4f14b9404474de95caeee8,span=f87bb0de55578cd2,sampled=0,service.name=gpt2_demo)\n",
      "2024-06-10T20:03:45-0400 [INFO] [api_server:7] 179.56.131.197:55582 (scheme=http,method=GET,path=/static_content/favicon-light-32x32.png,type=,length=) (status=200,type=image/png,length=640) 0.995ms (trace=69047503383e11130de277893a33dc42,span=11887a4f64d1fc5d,sampled=0,service.name=gpt2_demo)\n",
      "2024-06-10T20:03:45-0400 [INFO] [api_server:7] 44.196.175.104:30307 (scheme=http,method=GET,path=/docs.json,type=,length=) (status=200,type=application/json,length=4572) 0.680ms (trace=38699963e42bce8af55657c4818b88ba,span=e3b3c0c271100445,sampled=0,service.name=gpt2_demo)\n",
      "2024-06-10T20:03:46-0400 [INFO] [api_server:3] 186.107.17.61:52070 (scheme=http,method=GET,path=/docs.json,type=,length=) (status=200,type=application/json,length=4572) 2.258ms (trace=8d2a8c4077d4c94bb589da0da5a4d85a,span=3ff8c18d687ebf0f,sampled=0,service.name=gpt2_demo)\n",
      "2024-06-10T20:03:46-0400 [INFO] [api_server:9] 186.107.17.61:52081 (scheme=http,method=GET,path=/static_content/favicon-dark-32x32.png,type=,length=) (status=200,type=image/png,length=654) 1.172ms (trace=2d3d9562db9ff6ed13357d327e702789,span=e4e2cc10b7e06800,sampled=0,service.name=gpt2_demo)\n",
      "2024-06-10T20:03:47-0400 [INFO] [api_server:7] 190.160.214.183:65214 (scheme=http,method=GET,path=/,type=,length=) (status=200,type=text/html; charset=utf-8,length=2945) 0.277ms (trace=083df2c59dd259065a26231b66a455a4,span=85efed035a140e33,sampled=0,service.name=gpt2_demo)\n",
      "2024-06-10T20:03:48-0400 [INFO] [api_server:7] 190.160.214.183:65214 (scheme=http,method=GET,path=/static_content/swagger-ui.css,type=,length=) (status=200,type=text/css; charset=utf-8,length=152059) 2.343ms (trace=da3d91cc45465db3903d920f08fad15d,span=84503910a0d16565,sampled=0,service.name=gpt2_demo)\n",
      "2024-06-10T20:03:48-0400 [INFO] [api_server:6] 190.160.214.183:65215 (scheme=http,method=GET,path=/static_content/index.css,type=,length=) (status=200,type=text/css; charset=utf-8,length=1127) 5.410ms (trace=94f9b7caffcdc5875d98e675a8c459cc,span=5e4fb188d8135d6c,sampled=0,service.name=gpt2_demo)\n",
      "2024-06-10T20:03:48-0400 [INFO] [api_server:7] 190.160.214.183:65218 (scheme=http,method=GET,path=/static_content/swagger-initializer.js,type=,length=) (status=200,type=text/javascript; charset=utf-8,length=331) 0.932ms (trace=2e9e9bc86397277ac9dc8088528a00fb,span=2485349c7b8f5dc5,sampled=0,service.name=gpt2_demo)\n",
      "2024-06-10T20:03:48-0400 [INFO] [api_server:7] 44.196.175.104:25349 (scheme=http,method=GET,path=/docs.json,type=,length=) (status=200,type=application/json,length=4572) 0.835ms (trace=8a13c47b468b074b64a979f81b99c9e2,span=199050292f66ca0e,sampled=0,service.name=gpt2_demo)\n",
      "2024-06-10T20:03:48-0400 [INFO] [api_server:7] 190.160.214.183:65217 (scheme=http,method=GET,path=/static_content/swagger-ui-standalone-preset.js,type=,length=) (status=200,type=text/javascript; charset=utf-8,length=230777) 1.866ms (trace=c857ffd679817f30c168c878726ec080,span=c45658f7581acb88,sampled=0,service.name=gpt2_demo)\n",
      "2024-06-10T20:03:48-0400 [INFO] [api_server:7] 190.160.214.183:65216 (scheme=http,method=GET,path=/static_content/swagger-ui-bundle.js,type=,length=) (status=200,type=text/javascript; charset=utf-8,length=1415333) 182.811ms (trace=6abeee7c5458a68a97962721293815b6,span=39458784f7733002,sampled=0,service.name=gpt2_demo)\n",
      "2024-06-10T20:03:50-0400 [INFO] [api_server:7] 190.160.214.183:65217 (scheme=http,method=GET,path=/docs.json,type=,length=) (status=200,type=application/json,length=4572) 0.885ms (trace=1992f4df092970cfad208987b43de6bb,span=057631360f5651e5,sampled=0,service.name=gpt2_demo)\n",
      "2024-06-10T20:03:50-0400 [INFO] [api_server:7] 190.160.214.183:65217 (scheme=http,method=GET,path=/static_content/favicon-light-32x32.png,type=,length=) (status=200,type=image/png,length=640) 1.536ms (trace=8e10b6a6a940af7a9a66b55475d6a534,span=c5930f6bbf0bdc8e,sampled=0,service.name=gpt2_demo)\n",
      "2024-06-10T20:03:50-0400 [INFO] [api_server:7] 190.215.92.28:53272 (scheme=http,method=GET,path=/,type=,length=) (status=200,type=text/html; charset=utf-8,length=2945) 0.277ms (trace=fafbf437eea894b175e667ebe0ea3159,span=abc34166b4f73890,sampled=0,service.name=gpt2_demo)\n",
      "2024-06-10T20:03:50-0400 [INFO] [api_server:7] 44.196.175.104:48468 (scheme=http,method=GET,path=/docs.json,type=,length=) (status=200,type=application/json,length=4572) 0.834ms (trace=394929e99ff70f588dda3140720caa47,span=1c201921b68b344b,sampled=0,service.name=gpt2_demo)\n",
      "2024-06-10T20:03:51-0400 [INFO] [api_server:7] 190.215.92.28:53272 (scheme=http,method=GET,path=/static_content/swagger-ui.css,type=,length=) (status=200,type=text/css; charset=utf-8,length=152059) 1.769ms (trace=464436387cbafe7effffaad1378661fb,span=a858ddf9099ae319,sampled=0,service.name=gpt2_demo)\n",
      "2024-06-10T20:03:51-0400 [INFO] [api_server:7] 190.215.92.28:53271 (scheme=http,method=GET,path=/static_content/index.css,type=,length=) (status=200,type=text/css; charset=utf-8,length=1127) 1.054ms (trace=3d02fc2dd4e8d778c12a0267b7b2c205,span=35b649145a243daa,sampled=0,service.name=gpt2_demo)\n",
      "2024-06-10T20:03:51-0400 [INFO] [api_server:6] 190.215.92.28:53274 (scheme=http,method=GET,path=/static_content/swagger-initializer.js,type=,length=) (status=200,type=text/javascript; charset=utf-8,length=331) 0.974ms (trace=42b67b08c53f5cbe3300f536183e1c24,span=d0f983b05d1f23d6,sampled=0,service.name=gpt2_demo)\n",
      "2024-06-10T20:03:51-0400 [INFO] [api_server:7] 190.215.92.28:53273 (scheme=http,method=GET,path=/static_content/swagger-ui-standalone-preset.js,type=,length=) (status=200,type=text/javascript; charset=utf-8,length=230777) 1.748ms (trace=6d7e802b5ab45fd9c60e7de006df1ad1,span=dcd94927a3fd7db2,sampled=0,service.name=gpt2_demo)\n",
      "2024-06-10T20:03:51-0400 [INFO] [api_server:5] 190.215.92.28:53275 (scheme=http,method=GET,path=/static_content/swagger-ui-bundle.js,type=,length=) (status=200,type=text/javascript; charset=utf-8,length=1415333) 166.556ms (trace=4907e662b8080a72bc9ec3a5a6fde75c,span=2dfdd3bae8e90192,sampled=0,service.name=gpt2_demo)\n"
     ]
    },
    {
     "name": "stdout",
     "output_type": "stream",
     "text": [
      "2024-06-10T20:03:51-0400 [INFO] [api_server:7] 190.215.92.28:53273 (scheme=http,method=GET,path=/docs.json,type=,length=) (status=200,type=application/json,length=4572) 0.907ms (trace=ffcbc5fcad56258b836fdb4787da2681,span=99ef8232cced84dd,sampled=0,service.name=gpt2_demo)\n",
      "2024-06-10T20:03:51-0400 [INFO] [api_server:7] 190.215.92.28:53273 (scheme=http,method=GET,path=/static_content/favicon-dark-32x32.png,type=,length=) (status=200,type=image/png,length=654) 1.535ms (trace=266f435c43a65347b4936a9333f01701,span=361b2d99368748c7,sampled=0,service.name=gpt2_demo)\n",
      "2024-06-10T20:03:52-0400 [INFO] [api_server:5] 44.196.175.104:27316 (scheme=http,method=GET,path=/docs.json,type=,length=) (status=200,type=application/json,length=4572) 0.860ms (trace=8167b78bec86e65cccbdd535c5040bb1,span=70e6e3a1b20cca61,sampled=0,service.name=gpt2_demo)\n",
      "2024-06-10T20:03:53-0400 [INFO] [api_server:11] 201.105.213.238:62692 (scheme=http,method=GET,path=/,type=,length=) (status=200,type=text/html; charset=utf-8,length=2945) 0.292ms (trace=a7ea362704ccc7fb5f67c68aabb0f3b5,span=b7799137e1b8dbf1,sampled=0,service.name=gpt2_demo)\n",
      "2024-06-10T20:03:53-0400 [INFO] [api_server:11] 201.105.213.238:62692 (scheme=http,method=GET,path=/static_content/index.css,type=,length=) (status=200,type=text/css; charset=utf-8,length=1127) 1.189ms (trace=d8793b1a0124c5a9bf055150bd6c0b16,span=00604e1863da103c,sampled=0,service.name=gpt2_demo)\n",
      "2024-06-10T20:03:53-0400 [INFO] [api_server:1] 201.105.213.238:62691 (scheme=http,method=GET,path=/static_content/swagger-ui.css,type=,length=) (status=200,type=text/css; charset=utf-8,length=152059) 6.399ms (trace=f4fdfadc909120544bc4eee29fd61905,span=936e8c9717f40201,sampled=0,service.name=gpt2_demo)\n",
      "2024-06-10T20:03:53-0400 [INFO] [api_server:9] 201.105.213.238:62695 (scheme=http,method=GET,path=/static_content/swagger-initializer.js,type=,length=) (status=200,type=text/javascript; charset=utf-8,length=331) 1.236ms (trace=8d4f308d02f4490cdbf640bd563b5b74,span=603e7f97ebb5036d,sampled=0,service.name=gpt2_demo)\n",
      "2024-06-10T20:03:55-0400 [INFO] [api_server:2] 201.105.213.238:62694 (scheme=http,method=GET,path=/static_content/swagger-ui-standalone-preset.js,type=,length=) (status=200,type=text/javascript; charset=utf-8,length=230777) 1.803ms (trace=51b9bc6ed23d22487c3ac3060c240383,span=1bb1262456acc71b,sampled=0,service.name=gpt2_demo)\n",
      "2024-06-10T20:04:05-0400 [INFO] [api_server:2] 201.105.213.238:62693 (scheme=http,method=GET,path=/static_content/swagger-ui-bundle.js,type=,length=) (status=200,type=text/javascript; charset=utf-8,length=1415333) 11009.291ms (trace=addc3930940d6334c72dcdc56bb39979,span=1cf1d4d92708f166,sampled=0,service.name=gpt2_demo)\n",
      "2024-06-10T20:04:08-0400 [INFO] [api_server:7] 179.9.231.227:61543 (scheme=http,method=GET,path=/,type=,length=) (status=200,type=text/html; charset=utf-8,length=2945) 0.360ms (trace=bd8c613c1b75f9cc9131b12fa5d3d06c,span=e519e0c8e4c46042,sampled=0,service.name=gpt2_demo)\n",
      "2024-06-10T20:04:08-0400 [INFO] [api_server:7] 179.9.231.227:61543 (scheme=http,method=GET,path=/static_content/swagger-ui.css,type=,length=) (status=200,type=text/css; charset=utf-8,length=152059) 2.535ms (trace=b37ecdb8b39b498ac5a6f39c63996bef,span=dff7ca84081213e1,sampled=0,service.name=gpt2_demo)\n",
      "2024-06-10T20:04:08-0400 [INFO] [api_server:6] 179.9.231.227:61544 (scheme=http,method=GET,path=/static_content/index.css,type=,length=) (status=200,type=text/css; charset=utf-8,length=1127) 1.414ms (trace=129d8ea0655966e8d144ec0989cd3aa2,span=3c530ecf0a41694b,sampled=0,service.name=gpt2_demo)\n",
      "2024-06-10T20:04:08-0400 [INFO] [api_server:7] 179.9.231.227:61545 (scheme=http,method=GET,path=/static_content/swagger-initializer.js,type=,length=) (status=200,type=text/javascript; charset=utf-8,length=331) 1.527ms (trace=629a6e14bfe6c6274104c09b502a3af1,span=4b9f1d54fa4023ba,sampled=0,service.name=gpt2_demo)\n",
      "2024-06-10T20:04:08-0400 [INFO] [api_server:6] 179.9.231.227:61544 (scheme=http,method=GET,path=/static_content/swagger-ui-standalone-preset.js,type=,length=) (status=200,type=text/javascript; charset=utf-8,length=230777) 3.499ms (trace=06af297eafe244e0190664a2482f01da,span=7adfcc01ba7296b1,sampled=0,service.name=gpt2_demo)\n",
      "2024-06-10T20:04:08-0400 [INFO] [api_server:2] 201.105.213.238:62693 (scheme=http,method=GET,path=/docs.json,type=,length=) (status=200,type=application/json,length=4572) 12.921ms (trace=04fd6aea97a5134d9ac2b4bc098e2115,span=638cbb988d13a178,sampled=0,service.name=gpt2_demo)\n",
      "2024-06-10T20:04:08-0400 [INFO] [api_server:7] 201.105.213.238:62696 (scheme=http,method=GET,path=/apple-touch-icon-precomposed.png,type=,length=) (status=404,type=text/plain; charset=utf-8,length=9) 0.588ms (trace=aefdd68d475beebd97969aca3fb236f5,span=128a1fb4b66d5250,sampled=0,service.name=gpt2_demo)\n",
      "2024-06-10T20:04:08-0400 [INFO] [api_server:7] 201.105.213.238:62697 (scheme=http,method=GET,path=/static_content/favicon-light-32x32.png,type=,length=) (status=200,type=image/png,length=640) 1.546ms (trace=c5c3171854d8b28b992471abfa447a54,span=6879b6c80fd06962,sampled=0,service.name=gpt2_demo)\n",
      "2024-06-10T20:04:08-0400 [INFO] [api_server:4] 201.105.213.238:62698 (scheme=http,method=GET,path=/static_content/favicon-dark-32x32.png,type=,length=) (status=200,type=image/png,length=654) 1.222ms (trace=6dae94446267cda4507952c5abe3077d,span=dc7e9cac019b8ffb,sampled=0,service.name=gpt2_demo)\n",
      "2024-06-10T20:04:08-0400 [INFO] [api_server:11] 179.9.231.227:61547 (scheme=http,method=GET,path=/static_content/swagger-ui-bundle.js,type=,length=) (status=200,type=text/javascript; charset=utf-8,length=1415333) 462.119ms (trace=7a64bf3969e9c15516f53def29bcca73,span=61a57fe7e2d8fcaf,sampled=0,service.name=gpt2_demo)\n",
      "2024-06-10T20:04:09-0400 [INFO] [api_server:7] 201.105.213.238:62696 (scheme=http,method=GET,path=/apple-touch-icon.png,type=,length=) (status=404,type=text/plain; charset=utf-8,length=9) 0.730ms (trace=158fda969d5eead04b07b3ade40f47ab,span=f409781a33c6289c,sampled=0,service.name=gpt2_demo)\n",
      "2024-06-10T20:04:09-0400 [INFO] [api_server:12] 44.196.175.104:15722 (scheme=http,method=GET,path=/docs.json,type=,length=) (status=200,type=application/json,length=4572) 0.914ms (trace=386f76baf3f7c87afd21c7eb41d79ec3,span=395adff49cf4da7e,sampled=0,service.name=gpt2_demo)\n",
      "2024-06-10T20:04:10-0400 [INFO] [api_server:11] 179.9.231.227:61547 (scheme=http,method=GET,path=/docs.json,type=,length=) (status=200,type=application/json,length=4572) 12.586ms (trace=8ea77c5b876c3c3c225c302361231fbb,span=4ad31743474df5ac,sampled=0,service.name=gpt2_demo)\n",
      "2024-06-10T20:04:10-0400 [INFO] [api_server:11] 179.9.231.227:61547 (scheme=http,method=GET,path=/static_content/favicon-dark-32x32.png,type=,length=) (status=200,type=image/png,length=654) 1.512ms (trace=31ecd66f4eddc48e6cbd1f4f001241d5,span=627338432efe4564,sampled=0,service.name=gpt2_demo)\n",
      "2024-06-10T20:04:11-0400 [INFO] [api_server:12] 44.196.175.104:11201 (scheme=http,method=GET,path=/docs.json,type=,length=) (status=200,type=application/json,length=4572) 0.857ms (trace=727898a04a3e3960f0bde8dbdf845939,span=e719f9ab4cce4352,sampled=0,service.name=gpt2_demo)\n"
     ]
    },
    {
     "name": "stderr",
     "output_type": "stream",
     "text": [
      "The attention mask and the pad token id were not set. As a consequence, you may observe unexpected behavior. Please pass your input's `attention_mask` to obtain reliable results.\n",
      "Setting `pad_token_id` to `eos_token_id`:50256 for open-end generation.\n"
     ]
    },
    {
     "name": "stdout",
     "output_type": "stream",
     "text": [
      "2024-06-10T20:04:15-0400 [INFO] [runner:gpt2:1] _ (scheme=http,method=POST,path=/predict,type=application/octet-stream,length=23) (status=200,type=application/vnd.bentoml.DefaultContainer,length=88) 715.074ms (trace=5c3595a6acff42a4addc9521f334f2a4,span=19ee5086a4b4950d,sampled=0,service.name=gpt2)\n",
      "{'text': 'hi, i am'}\n",
      "hi, i am a woman of the same gender, i am bisexual, i am into science and\n",
      "2024-06-10T20:04:15-0400 [INFO] [api_server:9] 190.217.221.19:58389 (scheme=http,method=POST,path=/invocation,type=application/json,length=21) (status=200,type=application/json,length=88) 808.538ms (trace=5c3595a6acff42a4addc9521f334f2a4,span=775476b190881ae2,sampled=0,service.name=gpt2_demo)\n",
      "2024-06-10T20:04:19-0400 [INFO] [api_server:1] 190.12.168.30:32347 (scheme=http,method=GET,path=/,type=,length=) (status=200,type=text/html; charset=utf-8,length=2945) 0.305ms (trace=0b8641886d87560c8ea3f6fde746fa38,span=3e19237a3d1842ba,sampled=0,service.name=gpt2_demo)\n",
      "2024-06-10T20:04:19-0400 [INFO] [api_server:5] 190.12.168.30:32602 (scheme=http,method=GET,path=/static_content/index.css,type=,length=) (status=200,type=text/css; charset=utf-8,length=1127) 1.388ms (trace=ceecfd4405af974951b9b9e36a7e96c9,span=6387297ef1dacdfb,sampled=0,service.name=gpt2_demo)\n",
      "2024-06-10T20:04:19-0400 [INFO] [api_server:4] 190.12.168.30:32352 (scheme=http,method=GET,path=/static_content/swagger-initializer.js,type=,length=) (status=200,type=text/javascript; charset=utf-8,length=331) 1.000ms (trace=e6ad7229f2822452cdf8e76279096f3d,span=04209b000bb59ece,sampled=0,service.name=gpt2_demo)\n",
      "2024-06-10T20:04:19-0400 [INFO] [api_server:8] 190.12.168.30:32049 (scheme=http,method=GET,path=/static_content/swagger-ui.css,type=,length=) (status=200,type=text/css; charset=utf-8,length=152059) 6.337ms (trace=7d51f43675647c717882e4a1f7ea3964,span=9c7f3c2637c384dd,sampled=0,service.name=gpt2_demo)\n",
      "2024-06-10T20:04:19-0400 [INFO] [api_server:8] 190.12.168.30:32144 (scheme=http,method=GET,path=/static_content/swagger-ui-standalone-preset.js,type=,length=) (status=200,type=text/javascript; charset=utf-8,length=230777) 10.821ms (trace=9b2c7cdc32567e0f78fae3e5cc4393ff,span=10b124bfd662379c,sampled=0,service.name=gpt2_demo)\n",
      "2024-06-10T20:04:19-0400 [INFO] [api_server:7] 190.12.168.30:32051 (scheme=http,method=GET,path=/static_content/swagger-ui-bundle.js,type=,length=) (status=200,type=text/javascript; charset=utf-8,length=1415333) 121.099ms (trace=ec068167e32e90784e93319bd164b974,span=a5f4b450d0851caa,sampled=0,service.name=gpt2_demo)\n",
      "2024-06-10T20:04:19-0400 [INFO] [api_server:8] 190.12.168.30:32049 (scheme=http,method=GET,path=/docs.json,type=,length=) (status=200,type=application/json,length=4572) 12.779ms (trace=a9bb4dec783cf4b29fa845dbc770396b,span=b1f927c43b12c67a,sampled=0,service.name=gpt2_demo)\n",
      "2024-06-10T20:04:20-0400 [INFO] [api_server:7] 44.196.175.104:14945 (scheme=http,method=GET,path=/docs.json,type=,length=) (status=200,type=application/json,length=4572) 0.688ms (trace=f7f6c96b4e85b50a305574800cc35470,span=a84d5d58b81493df,sampled=0,service.name=gpt2_demo)\n",
      "2024-06-10T20:04:23-0400 [ERROR] [api_server:12] Exception on /invocation [POST] (trace=a6a595109bd379243d9c7be91ba5cb1e,span=86d362ef5e3d766a,sampled=0,service.name=gpt2_demo)\n",
      "Traceback (most recent call last):\n",
      "  File \"/run/media/javier/miniconda3/envs/UC/lib/python3.10/site-packages/bentoml/_internal/server/http_app.py\", line 329, in api_func\n",
      "    input_data = await api.input.from_http_request(request)\n",
      "  File \"/run/media/javier/miniconda3/envs/UC/lib/python3.10/site-packages/bentoml/_internal/io_descriptors/json.py\", line 385, in from_http_request\n",
      "    raise BadInput(f\"Invalid JSON input received: {e}\") from None\n",
      "bentoml.exceptions.BadInput: Invalid JSON input received: Expecting property name enclosed in double quotes: line 1 column 2 (char 1)\n",
      "2024-06-10T20:04:23-0400 [INFO] [api_server:12] 190.153.146.73:49632 (scheme=http,method=POST,path=/invocation,type=application/json,length=9) (status=400,type=application/json,length=147) 50.810ms (trace=a6a595109bd379243d9c7be91ba5cb1e,span=86d362ef5e3d766a,sampled=0,service.name=gpt2_demo)\n"
     ]
    },
    {
     "name": "stderr",
     "output_type": "stream",
     "text": [
      "The attention mask and the pad token id were not set. As a consequence, you may observe unexpected behavior. Please pass your input's `attention_mask` to obtain reliable results.\n",
      "Setting `pad_token_id` to `eos_token_id`:50256 for open-end generation.\n"
     ]
    },
    {
     "name": "stdout",
     "output_type": "stream",
     "text": [
      "2024-06-10T20:04:24-0400 [INFO] [runner:gpt2:1] _ (scheme=http,method=POST,path=/predict,type=application/octet-stream,length=23) (status=200,type=application/vnd.bentoml.DefaultContainer,length=88) 106.491ms (trace=509524f7948f5963ad98463158b442e4,span=f8cbd788330a9a8e,sampled=0,service.name=gpt2)\n",
      "{'text': 'Hi, I am'}\n",
      "Hi, I am not sure, but it makes sense. I've been playing Halo since I was\n",
      "2024-06-10T20:04:24-0400 [INFO] [api_server:11] 179.57.111.3:58923 (scheme=http,method=POST,path=/invocation,type=application/json,length=20) (status=200,type=application/json,length=88) 139.266ms (trace=509524f7948f5963ad98463158b442e4,span=b68687f88f2ebd34,sampled=0,service.name=gpt2_demo)\n",
      "2024-06-10T20:04:41-0400 [INFO] [api_server:3] 179.56.131.197:55620 (scheme=http,method=GET,path=/,type=,length=) (status=200,type=text/html; charset=utf-8,length=2945) 0.356ms (trace=f758009df29020420410b82e12578d4b,span=ba795052dc88bb41,sampled=0,service.name=gpt2_demo)\n",
      "2024-06-10T20:04:41-0400 [INFO] [api_server:7] 179.56.131.197:55619 (scheme=http,method=GET,path=/static_content/index.css,type=,length=) (status=200,type=text/css; charset=utf-8,length=1127) 0.974ms (trace=7f3df287ce0699e8ff329a332935c6ed,span=7f98137376d9aba5,sampled=0,service.name=gpt2_demo)\n",
      "2024-06-10T20:04:41-0400 [INFO] [api_server:3] 179.56.131.197:55620 (scheme=http,method=GET,path=/static_content/swagger-ui.css,type=,length=) (status=200,type=text/css; charset=utf-8,length=152059) 1.629ms (trace=129fdb48aad3e895e16e425788ababa4,span=424f89d549ab373d,sampled=0,service.name=gpt2_demo)\n",
      "2024-06-10T20:04:41-0400 [INFO] [api_server:7] 179.56.131.197:55621 (scheme=http,method=GET,path=/static_content/swagger-initializer.js,type=,length=) (status=200,type=text/javascript; charset=utf-8,length=331) 1.800ms (trace=796014040bc5560f46aad6a262dd91a1,span=36c6df184159fc75,sampled=0,service.name=gpt2_demo)\n",
      "2024-06-10T20:04:41-0400 [INFO] [api_server:11] 179.56.131.197:55622 (scheme=http,method=GET,path=/static_content/swagger-ui-standalone-preset.js,type=,length=) (status=200,type=text/javascript; charset=utf-8,length=230777) 1.776ms (trace=6e349261106428ee152d7ec1e64854d1,span=3ad0425b4ddb2aef,sampled=0,service.name=gpt2_demo)\n",
      "2024-06-10T20:04:41-0400 [INFO] [api_server:7] 179.56.131.197:55619 (scheme=http,method=GET,path=/static_content/swagger-ui-bundle.js,type=,length=) (status=200,type=text/javascript; charset=utf-8,length=1415333) 57.200ms (trace=270936b19f97245052b24b9958031c1b,span=bbc78a4f04c04232,sampled=0,service.name=gpt2_demo)\n",
      "2024-06-10T20:04:41-0400 [INFO] [api_server:7] 179.56.131.197:55619 (scheme=http,method=GET,path=/docs.json,type=,length=) (status=200,type=application/json,length=4572) 0.879ms (trace=24a7533f2336195a478ac726e8298711,span=0fd78a664f510237,sampled=0,service.name=gpt2_demo)\n",
      "2024-06-10T20:04:41-0400 [INFO] [api_server:11] 179.56.131.197:55622 (scheme=http,method=GET,path=/static_content/favicon-light-32x32.png,type=,length=) (status=200,type=image/png,length=640) 1.527ms (trace=3d7a028514c478046eed8352e9ecfe00,span=062b2eeb1eed5c53,sampled=0,service.name=gpt2_demo)\n",
      "2024-06-10T20:04:42-0400 [INFO] [api_server:3] 44.196.175.104:42056 (scheme=http,method=GET,path=/docs.json,type=,length=) (status=200,type=application/json,length=4572) 0.589ms (trace=e6beca8269ca2c97bdc90b0c991ab839,span=c3ae072bbda73d03,sampled=0,service.name=gpt2_demo)\n",
      "{}\n",
      "2024-06-10T20:04:54-0400 [ERROR] [api_server:5] Exception on /invocation [POST] (trace=cbed7a51fd08423e8700e7980830d87b,span=50a05368710e3675,sampled=0,service.name=gpt2_demo)\n",
      "Traceback (most recent call last):\n",
      "  File \"/run/media/javier/miniconda3/envs/UC/lib/python3.10/site-packages/bentoml/_internal/server/http_app.py\", line 342, in api_func\n",
      "    output = await api.func(*args)\n",
      "  File \"/home/javier/Documentos/UC/diplomado/clase/server.py\", line 47, in invocation\n",
      "    image = input[\"text\"]\n",
      "KeyError: 'text'\n",
      "2024-06-10T20:04:54-0400 [INFO] [api_server:5] 179.9.231.227:61578 (scheme=http,method=POST,path=/invocation,type=application/json,length=2) (status=500,type=application/json,length=110) 1.339ms (trace=cbed7a51fd08423e8700e7980830d87b,span=50a05368710e3675,sampled=0,service.name=gpt2_demo)\n"
     ]
    },
    {
     "name": "stderr",
     "output_type": "stream",
     "text": [
      "The attention mask and the pad token id were not set. As a consequence, you may observe unexpected behavior. Please pass your input's `attention_mask` to obtain reliable results.\n",
      "Setting `pad_token_id` to `eos_token_id`:50256 for open-end generation.\n"
     ]
    },
    {
     "name": "stdout",
     "output_type": "stream",
     "text": [
      "2024-06-10T20:04:55-0400 [INFO] [runner:gpt2:1] _ (scheme=http,method=POST,path=/predict,type=application/octet-stream,length=20) (status=200,type=application/vnd.bentoml.DefaultContainer,length=91) 134.747ms (trace=39abbd6aa1e4f440a21232b10a571d89,span=aa7349d148e38fc3,sampled=0,service.name=gpt2)\n",
      "{'text': 'hello'}\n",
      "hello the news release from E. Coli\n",
      "\n",
      "In a major new move, the city announced\n",
      "2024-06-10T20:04:55-0400 [INFO] [api_server:6] 201.189.202.30:56744 (scheme=http,method=POST,path=/invocation,type=application/json,length=19) (status=200,type=application/json,length=93) 175.271ms (trace=39abbd6aa1e4f440a21232b10a571d89,span=10241e59cca1dbd5,sampled=0,service.name=gpt2_demo)\n"
     ]
    }
   ],
   "source": [
    "get_ipython().system_raw('BENTOML_PORT=11000 bentoml serve server:svc &')"
   ]
  },
  {
   "cell_type": "markdown",
   "id": "8f91ac16",
   "metadata": {
    "slideshow": {
     "slide_type": "subslide"
    }
   },
   "source": [
    "## Modelo como API\n",
    "# <center>[<img src=\"images/depl2.png\" width=\"70%\"/>](attachment:image.png)</center>"
   ]
  },
  {
   "cell_type": "markdown",
   "id": "ea64de65",
   "metadata": {
    "slideshow": {
     "slide_type": "slide"
    }
   },
   "source": [
    "## Problemas de levantar modelos API en MV"
   ]
  },
  {
   "cell_type": "markdown",
   "id": "1569ccc3",
   "metadata": {
    "slideshow": {
     "slide_type": "fragment"
    }
   },
   "source": [
    "# <center>[<img src=\"images/apin2.png\" width=\"70%\"/>](attachment:image.png)</center>"
   ]
  },
  {
   "cell_type": "markdown",
   "id": "26666bbc",
   "metadata": {
    "slideshow": {
     "slide_type": "slide"
    }
   },
   "source": [
    "## Solución: Escalar modelos API en cloud"
   ]
  },
  {
   "cell_type": "markdown",
   "id": "e06a05be",
   "metadata": {
    "slideshow": {
     "slide_type": "subslide"
    }
   },
   "source": [
    "# <center>[<img src=\"images/depl4.png\" width=\"50%\"/>](attachment:image.png)</center>"
   ]
  },
  {
   "cell_type": "markdown",
   "id": "a37a3418",
   "metadata": {
    "slideshow": {
     "slide_type": "notes"
    }
   },
   "source": [
    "### Mostrar ejemplo de escalamiento en VERTEX AI"
   ]
  },
  {
   "cell_type": "markdown",
   "id": "7e57909a",
   "metadata": {
    "slideshow": {
     "slide_type": "slide"
    }
   },
   "source": [
    "## ¿Qué es MLOps?\n",
    "\n",
    "* Paradigma repetible que tiene como objetivo implementar y mantener modelos de aprendizaje automático en producción de manera confiable y eficiente.\n"
   ]
  },
  {
   "cell_type": "markdown",
   "id": "9a4c1c58",
   "metadata": {
    "slideshow": {
     "slide_type": "subslide"
    }
   },
   "source": [
    "# <center>[<img src=\"images/mlops.png\" width=\"80%\"/>](attachment:image.png)</center>"
   ]
  },
  {
   "cell_type": "markdown",
   "id": "eed8c019",
   "metadata": {
    "slideshow": {
     "slide_type": "slide"
    }
   },
   "source": [
    "## Pipelines en MLOps"
   ]
  },
  {
   "cell_type": "markdown",
   "id": "6e6f9a7a",
   "metadata": {
    "slideshow": {
     "slide_type": "fragment"
    }
   },
   "source": [
    "* Una Pipeline es un flujo de trabajo conformado por uno o varios componentes y sus interacciones a través de entradas y salidas."
   ]
  },
  {
   "cell_type": "markdown",
   "id": "1e372ddd",
   "metadata": {
    "slideshow": {
     "slide_type": "subslide"
    }
   },
   "source": [
    "# <center>[<img src=\"images/compo.png\" width=\"60%\"/>](attachment:image.png)</center>"
   ]
  },
  {
   "cell_type": "markdown",
   "id": "32fe6a7b",
   "metadata": {
    "slideshow": {
     "slide_type": "subslide"
    }
   },
   "source": [
    "# <center>[<img src=\"images/pipeline.png\" width=\"60%\"/>](attachment:image.png)</center>"
   ]
  },
  {
   "cell_type": "markdown",
   "id": "1b7385ce",
   "metadata": {
    "slideshow": {
     "slide_type": "slide"
    }
   },
   "source": [
    "### Frameworks para MLOps"
   ]
  },
  {
   "cell_type": "markdown",
   "id": "f4a6b4e4",
   "metadata": {
    "slideshow": {
     "slide_type": "fragment"
    }
   },
   "source": [
    "# <center>[<img src=\"images/mlops_frame2.png\" width=\"70%\"/>](attachment:image.png)</center>"
   ]
  },
  {
   "cell_type": "markdown",
   "id": "353d1c2d",
   "metadata": {
    "slideshow": {
     "slide_type": "slide"
    }
   },
   "source": [
    "### Servicios cloud para MLOps\n",
    "# <center>[<img src=\"images/mlstudiovsvertex.png\" width=\"60%\"/>](attachment:image.png)</center>"
   ]
  },
  {
   "cell_type": "markdown",
   "id": "5822f7ea",
   "metadata": {
    "slideshow": {
     "slide_type": "slide"
    }
   },
   "source": [
    "### Ejemplo de pipeline de juguete definida en Kubeflow"
   ]
  },
  {
   "cell_type": "code",
   "execution_count": 20,
   "id": "ffdf042a",
   "metadata": {
    "slideshow": {
     "slide_type": "fragment"
    }
   },
   "outputs": [
    {
     "name": "stderr",
     "output_type": "stream",
     "text": [
      "/tmp/ipykernel_47038/299293933.py:2: DeprecationWarning: The module `kfp.v2` is deprecated and will be removed in a futureversion. Please import directly from the `kfp` namespace, instead of `kfp.v2`.\n",
      "  from kfp.v2 import compiler\n",
      "/run/media/javier/miniconda3/envs/UC/lib/python3.10/site-packages/kfp/dsl/component_decorator.py:119: FutureWarning: Python 3.7 has reached end-of-life. The default base_image used by the @dsl.component decorator will switch from 'python:3.7' to 'python:3.8' on April 23, 2024. To ensure your existing components work with versions of the KFP SDK released after that date, you should provide an explicit base_image argument and ensure your component works as intended on Python 3.8.\n",
      "  return component_factory.create_component_from_func(\n"
     ]
    },
    {
     "name": "stdout",
     "output_type": "stream",
     "text": [
      "2024-06-10T21:14:35-0400 [INFO] [api_server:7] 190.12.168.30:32656 (scheme=http,method=GET,path=/,type=,length=) (status=200,type=text/html; charset=utf-8,length=2945) 0.364ms (trace=80e5012edec596be57c6380555f7de24,span=4c5b778b07b87cde,sampled=0,service.name=gpt2_demo)\n",
      "2024-06-10T21:14:35-0400 [INFO] [api_server:7] 190.12.168.30:32656 (scheme=http,method=GET,path=/static_content/swagger-ui.css,type=,length=) (status=200,type=text/css; charset=utf-8,length=152059) 1.306ms (trace=3133d0051c7f2a7c9fea87b88e1f3e61,span=eb3521dfc41aa0a4,sampled=0,service.name=gpt2_demo)\n",
      "2024-06-10T21:14:35-0400 [INFO] [api_server:4] 190.12.168.30:32427 (scheme=http,method=GET,path=/static_content/index.css,type=,length=) (status=200,type=text/css; charset=utf-8,length=1127) 0.878ms (trace=d9a985a73743d8bdd133a2c74751b141,span=ce110c1de467d791,sampled=0,service.name=gpt2_demo)\n",
      "2024-06-10T21:14:35-0400 [INFO] [api_server:7] 190.12.168.30:31876 (scheme=http,method=GET,path=/static_content/swagger-initializer.js,type=,length=) (status=200,type=text/javascript; charset=utf-8,length=331) 0.727ms (trace=64a7a0ef41082daddee7724eaf353797,span=cd46453d4f5410ff,sampled=0,service.name=gpt2_demo)\n",
      "2024-06-10T21:14:35-0400 [INFO] [api_server:11] 190.12.168.30:32522 (scheme=http,method=GET,path=/static_content/swagger-ui-standalone-preset.js,type=,length=) (status=200,type=text/javascript; charset=utf-8,length=230777) 2.161ms (trace=ebee62034b94f6b274c514607d70bd5a,span=22e51cfabdaf16f3,sampled=0,service.name=gpt2_demo)\n",
      "2024-06-10T21:14:35-0400 [INFO] [api_server:7] 190.12.168.30:31808 (scheme=http,method=GET,path=/static_content/swagger-ui-bundle.js,type=,length=) (status=200,type=text/javascript; charset=utf-8,length=1415333) 87.762ms (trace=b110c917f34382273a87eb7fd542429a,span=3af12664375e63b4,sampled=0,service.name=gpt2_demo)\n",
      "2024-06-10T21:14:35-0400 [INFO] [api_server:7] 190.12.168.30:31808 (scheme=http,method=GET,path=/docs.json,type=,length=) (status=200,type=application/json,length=4572) 0.895ms (trace=f9025fdcfede1ac9e7e20a8f93cdea5e,span=1db992f92b990a4f,sampled=0,service.name=gpt2_demo)\n",
      "2024-06-10T21:14:35-0400 [INFO] [api_server:11] 190.12.168.30:32522 (scheme=http,method=GET,path=/static_content/favicon-dark-32x32.png,type=,length=) (status=200,type=image/png,length=654) 1.494ms (trace=a6182685c4abbe064291c85530b58b88,span=42983cee6e1c86ea,sampled=0,service.name=gpt2_demo)\n",
      "2024-06-10T21:14:35-0400 [INFO] [api_server:11] 44.196.175.104:33602 (scheme=http,method=GET,path=/docs.json,type=,length=) (status=200,type=application/json,length=4572) 0.757ms (trace=f5ade7c726ad2889897ce00e1c60b2d0,span=026286e08019eaca,sampled=0,service.name=gpt2_demo)\n"
     ]
    }
   ],
   "source": [
    "import kfp.dsl as dsl\n",
    "from kfp.v2 import compiler\n",
    "\n",
    "@dsl.component\n",
    "def load_Data(a: float, b: float) -> float:\n",
    "    return a + b\n",
    "\n",
    "@dsl.component\n",
    "def train(a: float, b: float) -> float:\n",
    "    return a * b\n",
    "\n",
    "@dsl.pipeline\n",
    "def add_pipeline(a: float, b: float):\n",
    "    add_task = add(a=a, b=b)\n",
    "    mul_task = mul(a=a, b=add_task.output)\n",
    "    \n",
    "compiler.Compiler().compile(pipeline_func=add_pipeline, package_path='add_pipeline.json')\n"
   ]
  },
  {
   "cell_type": "markdown",
   "id": "8189434e",
   "metadata": {
    "slideshow": {
     "slide_type": "slide"
    }
   },
   "source": [
    "### Ejemplo de Pipeline real en vertex AI"
   ]
  },
  {
   "cell_type": "markdown",
   "id": "c56ac8f8",
   "metadata": {
    "slideshow": {
     "slide_type": "skip"
    }
   },
   "source": [
    "# <center>[<img src=\"images/vertex.png\" width=\"56%\"/>](attachment:image.png)</center>"
   ]
  },
  {
   "cell_type": "code",
   "execution_count": null,
   "id": "e643f2b5",
   "metadata": {},
   "outputs": [],
   "source": []
  }
 ],
 "metadata": {
  "celltoolbar": "Slideshow",
  "kernelspec": {
   "display_name": "Python 3 (ipykernel)",
   "language": "python",
   "name": "python3"
  },
  "language_info": {
   "codemirror_mode": {
    "name": "ipython",
    "version": 3
   },
   "file_extension": ".py",
   "mimetype": "text/x-python",
   "name": "python",
   "nbconvert_exporter": "python",
   "pygments_lexer": "ipython3",
   "version": "3.10.13"
  }
 },
 "nbformat": 4,
 "nbformat_minor": 5
}
